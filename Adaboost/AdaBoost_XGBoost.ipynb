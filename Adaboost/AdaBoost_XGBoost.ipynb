{
 "cells": [
  {
   "cell_type": "markdown",
   "metadata": {},
   "source": [
    "### Installing XGBoost\n",
    "\n",
    "* Execute below command in terminal\n",
    "\n",
    "\n",
    "* !pip install xgboost\n",
    "   *   OR\n",
    "* sudo conda install -c conda-forge xgboost (Run in terminal)"
   ]
  },
  {
   "cell_type": "code",
   "execution_count": 217,
   "metadata": {},
   "outputs": [],
   "source": [
    "import pandas as pd\n",
    "import numpy\n",
    "\n",
    "from sklearn.model_selection import train_test_split\n",
    "from sklearn.preprocessing import LabelEncoder\n",
    "from sklearn.preprocessing import MinMaxScaler\n",
    "\n",
    "%matplotlib inline\n",
    "import matplotlib.pyplot as plt\n",
    "import seaborn as sns\n",
    "\n",
    "from sklearn.model_selection import GridSearchCV\n",
    "\n",
    "from sklearn.metrics import accuracy_score,classification_report, recall_score, precision_score,confusion_matrix\n",
    "\n",
    "from sklearn.tree import DecisionTreeClassifier\n",
    "from sklearn.ensemble import GradientBoostingClassifier\n",
    "from sklearn.ensemble import AdaBoostClassifier\n",
    "\n",
    "from xgboost import XGBClassifier\n",
    "\n",
    "import warnings\n",
    "warnings.filterwarnings('ignore')"
   ]
  },
  {
   "cell_type": "markdown",
   "metadata": {},
   "source": [
    "#### Problem Statement - Tennis Australia is trying to better automate how tennis points get categorized into three outcomes – winners, forced errors and unforced errors.\n",
    "\n",
    "#### Dataset Description:\n",
    "\n",
    "The dataset includes point outcomes of rallies only (where the number of shots hit exceeds two, which represents the serve and return). All points were played at a past Australian Open.\n"
   ]
  },
  {
   "cell_type": "code",
   "execution_count": 173,
   "metadata": {},
   "outputs": [],
   "source": [
    "data = pd.read_csv(\"./DataSet/train.csv\")"
   ]
  },
  {
   "cell_type": "code",
   "execution_count": 174,
   "metadata": {},
   "outputs": [
    {
     "data": {
      "text/plain": [
       "(8001, 27)"
      ]
     },
     "execution_count": 174,
     "metadata": {},
     "output_type": "execute_result"
    }
   ],
   "source": [
    "data.shape"
   ]
  },
  {
   "cell_type": "markdown",
   "metadata": {},
   "source": [
    "#### See the top 5 rows of the data"
   ]
  },
  {
   "cell_type": "code",
   "execution_count": 175,
   "metadata": {},
   "outputs": [
    {
     "data": {
      "text/html": [
       "<div>\n",
       "<style scoped>\n",
       "    .dataframe tbody tr th:only-of-type {\n",
       "        vertical-align: middle;\n",
       "    }\n",
       "\n",
       "    .dataframe tbody tr th {\n",
       "        vertical-align: top;\n",
       "    }\n",
       "\n",
       "    .dataframe thead th {\n",
       "        text-align: right;\n",
       "    }\n",
       "</style>\n",
       "<table border=\"1\" class=\"dataframe\">\n",
       "  <thead>\n",
       "    <tr style=\"text-align: right;\">\n",
       "      <th></th>\n",
       "      <th>rally</th>\n",
       "      <th>serve</th>\n",
       "      <th>hitpoint</th>\n",
       "      <th>speed</th>\n",
       "      <th>net.clearance</th>\n",
       "      <th>distance.from.sideline</th>\n",
       "      <th>depth</th>\n",
       "      <th>outside.sideline</th>\n",
       "      <th>outside.baseline</th>\n",
       "      <th>player.distance.travelled</th>\n",
       "      <th>...</th>\n",
       "      <th>previous.depth</th>\n",
       "      <th>opponent.depth</th>\n",
       "      <th>opponent.distance.from.center</th>\n",
       "      <th>same.side</th>\n",
       "      <th>previous.hitpoint</th>\n",
       "      <th>previous.time.to.net</th>\n",
       "      <th>server.is.impact.player</th>\n",
       "      <th>outcome</th>\n",
       "      <th>gender</th>\n",
       "      <th>ID</th>\n",
       "    </tr>\n",
       "  </thead>\n",
       "  <tbody>\n",
       "    <tr>\n",
       "      <th>0</th>\n",
       "      <td>4</td>\n",
       "      <td>1</td>\n",
       "      <td>B</td>\n",
       "      <td>35.515042</td>\n",
       "      <td>-0.021725</td>\n",
       "      <td>3.474766</td>\n",
       "      <td>6.797621</td>\n",
       "      <td>False</td>\n",
       "      <td>False</td>\n",
       "      <td>1.467570</td>\n",
       "      <td>...</td>\n",
       "      <td>0.705435</td>\n",
       "      <td>12.5628</td>\n",
       "      <td>2.0724</td>\n",
       "      <td>True</td>\n",
       "      <td>F</td>\n",
       "      <td>0.445318</td>\n",
       "      <td>False</td>\n",
       "      <td>UE</td>\n",
       "      <td>mens</td>\n",
       "      <td>8644</td>\n",
       "    </tr>\n",
       "    <tr>\n",
       "      <th>1</th>\n",
       "      <td>4</td>\n",
       "      <td>2</td>\n",
       "      <td>B</td>\n",
       "      <td>33.382640</td>\n",
       "      <td>1.114202</td>\n",
       "      <td>2.540801</td>\n",
       "      <td>2.608708</td>\n",
       "      <td>False</td>\n",
       "      <td>True</td>\n",
       "      <td>2.311931</td>\n",
       "      <td>...</td>\n",
       "      <td>3.856600</td>\n",
       "      <td>12.3544</td>\n",
       "      <td>5.1124</td>\n",
       "      <td>False</td>\n",
       "      <td>B</td>\n",
       "      <td>0.432434</td>\n",
       "      <td>False</td>\n",
       "      <td>FE</td>\n",
       "      <td>mens</td>\n",
       "      <td>1182</td>\n",
       "    </tr>\n",
       "    <tr>\n",
       "      <th>2</th>\n",
       "      <td>23</td>\n",
       "      <td>1</td>\n",
       "      <td>B</td>\n",
       "      <td>22.316690</td>\n",
       "      <td>-0.254046</td>\n",
       "      <td>3.533166</td>\n",
       "      <td>9.435749</td>\n",
       "      <td>False</td>\n",
       "      <td>False</td>\n",
       "      <td>3.903728</td>\n",
       "      <td>...</td>\n",
       "      <td>2.908892</td>\n",
       "      <td>13.8620</td>\n",
       "      <td>1.6564</td>\n",
       "      <td>False</td>\n",
       "      <td>F</td>\n",
       "      <td>0.397538</td>\n",
       "      <td>True</td>\n",
       "      <td>FE</td>\n",
       "      <td>mens</td>\n",
       "      <td>9042</td>\n",
       "    </tr>\n",
       "    <tr>\n",
       "      <th>3</th>\n",
       "      <td>9</td>\n",
       "      <td>1</td>\n",
       "      <td>F</td>\n",
       "      <td>36.837309</td>\n",
       "      <td>0.766694</td>\n",
       "      <td>0.586885</td>\n",
       "      <td>3.342180</td>\n",
       "      <td>True</td>\n",
       "      <td>False</td>\n",
       "      <td>0.583745</td>\n",
       "      <td>...</td>\n",
       "      <td>0.557554</td>\n",
       "      <td>14.2596</td>\n",
       "      <td>0.1606</td>\n",
       "      <td>True</td>\n",
       "      <td>B</td>\n",
       "      <td>0.671984</td>\n",
       "      <td>True</td>\n",
       "      <td>UE</td>\n",
       "      <td>mens</td>\n",
       "      <td>1222</td>\n",
       "    </tr>\n",
       "    <tr>\n",
       "      <th>4</th>\n",
       "      <td>4</td>\n",
       "      <td>1</td>\n",
       "      <td>B</td>\n",
       "      <td>35.544208</td>\n",
       "      <td>0.116162</td>\n",
       "      <td>0.918725</td>\n",
       "      <td>5.499119</td>\n",
       "      <td>False</td>\n",
       "      <td>False</td>\n",
       "      <td>2.333456</td>\n",
       "      <td>...</td>\n",
       "      <td>3.945317</td>\n",
       "      <td>11.3658</td>\n",
       "      <td>1.1082</td>\n",
       "      <td>False</td>\n",
       "      <td>F</td>\n",
       "      <td>0.340411</td>\n",
       "      <td>False</td>\n",
       "      <td>W</td>\n",
       "      <td>mens</td>\n",
       "      <td>4085</td>\n",
       "    </tr>\n",
       "  </tbody>\n",
       "</table>\n",
       "<p>5 rows × 27 columns</p>\n",
       "</div>"
      ],
      "text/plain": [
       "   rally  serve hitpoint      speed  net.clearance  distance.from.sideline  \\\n",
       "0      4      1        B  35.515042      -0.021725                3.474766   \n",
       "1      4      2        B  33.382640       1.114202                2.540801   \n",
       "2     23      1        B  22.316690      -0.254046                3.533166   \n",
       "3      9      1        F  36.837309       0.766694                0.586885   \n",
       "4      4      1        B  35.544208       0.116162                0.918725   \n",
       "\n",
       "      depth  outside.sideline  outside.baseline  player.distance.travelled  \\\n",
       "0  6.797621             False             False                   1.467570   \n",
       "1  2.608708             False              True                   2.311931   \n",
       "2  9.435749             False             False                   3.903728   \n",
       "3  3.342180              True             False                   0.583745   \n",
       "4  5.499119             False             False                   2.333456   \n",
       "\n",
       "   ...  previous.depth  opponent.depth  opponent.distance.from.center  \\\n",
       "0  ...        0.705435         12.5628                         2.0724   \n",
       "1  ...        3.856600         12.3544                         5.1124   \n",
       "2  ...        2.908892         13.8620                         1.6564   \n",
       "3  ...        0.557554         14.2596                         0.1606   \n",
       "4  ...        3.945317         11.3658                         1.1082   \n",
       "\n",
       "   same.side  previous.hitpoint  previous.time.to.net  \\\n",
       "0       True                  F              0.445318   \n",
       "1      False                  B              0.432434   \n",
       "2      False                  F              0.397538   \n",
       "3       True                  B              0.671984   \n",
       "4      False                  F              0.340411   \n",
       "\n",
       "   server.is.impact.player  outcome  gender    ID  \n",
       "0                    False       UE    mens  8644  \n",
       "1                    False       FE    mens  1182  \n",
       "2                     True       FE    mens  9042  \n",
       "3                     True       UE    mens  1222  \n",
       "4                    False        W    mens  4085  \n",
       "\n",
       "[5 rows x 27 columns]"
      ]
     },
     "execution_count": 175,
     "metadata": {},
     "output_type": "execute_result"
    }
   ],
   "source": [
    "data.head()"
   ]
  },
  {
   "cell_type": "markdown",
   "metadata": {},
   "source": [
    "#### Different classes in Outcome variable"
   ]
  },
  {
   "cell_type": "code",
   "execution_count": 176,
   "metadata": {},
   "outputs": [
    {
     "data": {
      "text/plain": [
       "array(['UE', 'FE', 'W'], dtype=object)"
      ]
     },
     "execution_count": 176,
     "metadata": {},
     "output_type": "execute_result"
    }
   ],
   "source": [
    "pd.unique(data.outcome)"
   ]
  },
  {
   "cell_type": "markdown",
   "metadata": {},
   "source": [
    "#### Outcome variable - classes\n",
    "* Winner – the point winning player hits a shot that is not touched by the opponent\n",
    "* Forced error – the point winning player hits a shot that causes the opponent to not be able to return it, i.e. a good shot that is hard to handle\n",
    "* Unforced error – the player attempting to return the ball makes an error on an otherwise normal looking rally shot"
   ]
  },
  {
   "cell_type": "markdown",
   "metadata": {},
   "source": [
    "#### Check the number of columns"
   ]
  },
  {
   "cell_type": "code",
   "execution_count": 177,
   "metadata": {},
   "outputs": [
    {
     "data": {
      "text/plain": [
       "27"
      ]
     },
     "execution_count": 177,
     "metadata": {},
     "output_type": "execute_result"
    }
   ],
   "source": [
    "len(data.columns)"
   ]
  },
  {
   "cell_type": "markdown",
   "metadata": {},
   "source": [
    "#### Display data type of each variable"
   ]
  },
  {
   "cell_type": "code",
   "execution_count": 178,
   "metadata": {
    "scrolled": true
   },
   "outputs": [
    {
     "data": {
      "text/plain": [
       "rally                                   int64\n",
       "serve                                   int64\n",
       "hitpoint                               object\n",
       "speed                                 float64\n",
       "net.clearance                         float64\n",
       "distance.from.sideline                float64\n",
       "depth                                 float64\n",
       "outside.sideline                         bool\n",
       "outside.baseline                         bool\n",
       "player.distance.travelled             float64\n",
       "player.impact.depth                   float64\n",
       "player.impact.distance.from.center    float64\n",
       "player.depth                          float64\n",
       "player.distance.from.center           float64\n",
       "previous.speed                        float64\n",
       "previous.net.clearance                float64\n",
       "previous.distance.from.sideline       float64\n",
       "previous.depth                        float64\n",
       "opponent.depth                        float64\n",
       "opponent.distance.from.center         float64\n",
       "same.side                                bool\n",
       "previous.hitpoint                      object\n",
       "previous.time.to.net                  float64\n",
       "server.is.impact.player                  bool\n",
       "outcome                                object\n",
       "gender                                 object\n",
       "ID                                      int64\n",
       "dtype: object"
      ]
     },
     "execution_count": 178,
     "metadata": {},
     "output_type": "execute_result"
    }
   ],
   "source": [
    "data.dtypes"
   ]
  },
  {
   "cell_type": "markdown",
   "metadata": {},
   "source": [
    "#### Identifying categorical attributes"
   ]
  },
  {
   "cell_type": "code",
   "execution_count": 179,
   "metadata": {},
   "outputs": [],
   "source": [
    "categorical_list = [\"hitpoint\",\"outside.sideline\",\n",
    "                    \"outside.baseline\",\"same.side\",\"previous.hitpoint\",\"server.is.impact.player\",\"gender\",\"outcome\"]"
   ]
  },
  {
   "cell_type": "markdown",
   "metadata": {},
   "source": [
    "#### Converting to appropriate datatype"
   ]
  },
  {
   "cell_type": "code",
   "execution_count": 180,
   "metadata": {},
   "outputs": [],
   "source": [
    "for i in data[categorical_list]:\n",
    "    data[i] = data[i].astype(\"category\")    "
   ]
  },
  {
   "cell_type": "markdown",
   "metadata": {},
   "source": [
    "#### Display data type of each variable after conversion"
   ]
  },
  {
   "cell_type": "code",
   "execution_count": 181,
   "metadata": {},
   "outputs": [
    {
     "data": {
      "text/plain": [
       "rally                                    int64\n",
       "serve                                    int64\n",
       "hitpoint                              category\n",
       "speed                                  float64\n",
       "net.clearance                          float64\n",
       "distance.from.sideline                 float64\n",
       "depth                                  float64\n",
       "outside.sideline                      category\n",
       "outside.baseline                      category\n",
       "player.distance.travelled              float64\n",
       "player.impact.depth                    float64\n",
       "player.impact.distance.from.center     float64\n",
       "player.depth                           float64\n",
       "player.distance.from.center            float64\n",
       "previous.speed                         float64\n",
       "previous.net.clearance                 float64\n",
       "previous.distance.from.sideline        float64\n",
       "previous.depth                         float64\n",
       "opponent.depth                         float64\n",
       "opponent.distance.from.center          float64\n",
       "same.side                             category\n",
       "previous.hitpoint                     category\n",
       "previous.time.to.net                   float64\n",
       "server.is.impact.player               category\n",
       "outcome                               category\n",
       "gender                                category\n",
       "ID                                       int64\n",
       "dtype: object"
      ]
     },
     "execution_count": 181,
     "metadata": {},
     "output_type": "execute_result"
    }
   ],
   "source": [
    "data.dtypes"
   ]
  },
  {
   "cell_type": "markdown",
   "metadata": {},
   "source": [
    "#### Dropping ID column and checking the length of columns"
   ]
  },
  {
   "cell_type": "code",
   "execution_count": 182,
   "metadata": {},
   "outputs": [
    {
     "data": {
      "text/plain": [
       "26"
      ]
     },
     "execution_count": 182,
     "metadata": {},
     "output_type": "execute_result"
    }
   ],
   "source": [
    "data.drop([\"ID\"], axis=1, inplace=True)\n",
    "len(data.columns)"
   ]
  },
  {
   "cell_type": "markdown",
   "metadata": {},
   "source": [
    "#### Display summary statistics "
   ]
  },
  {
   "cell_type": "code",
   "execution_count": 183,
   "metadata": {
    "scrolled": true
   },
   "outputs": [
    {
     "data": {
      "text/html": [
       "<div>\n",
       "<style scoped>\n",
       "    .dataframe tbody tr th:only-of-type {\n",
       "        vertical-align: middle;\n",
       "    }\n",
       "\n",
       "    .dataframe tbody tr th {\n",
       "        vertical-align: top;\n",
       "    }\n",
       "\n",
       "    .dataframe thead th {\n",
       "        text-align: right;\n",
       "    }\n",
       "</style>\n",
       "<table border=\"1\" class=\"dataframe\">\n",
       "  <thead>\n",
       "    <tr style=\"text-align: right;\">\n",
       "      <th></th>\n",
       "      <th>rally</th>\n",
       "      <th>serve</th>\n",
       "      <th>speed</th>\n",
       "      <th>net.clearance</th>\n",
       "      <th>distance.from.sideline</th>\n",
       "      <th>depth</th>\n",
       "      <th>player.distance.travelled</th>\n",
       "      <th>player.impact.depth</th>\n",
       "      <th>player.impact.distance.from.center</th>\n",
       "      <th>player.depth</th>\n",
       "      <th>player.distance.from.center</th>\n",
       "      <th>previous.speed</th>\n",
       "      <th>previous.net.clearance</th>\n",
       "      <th>previous.distance.from.sideline</th>\n",
       "      <th>previous.depth</th>\n",
       "      <th>opponent.depth</th>\n",
       "      <th>opponent.distance.from.center</th>\n",
       "      <th>previous.time.to.net</th>\n",
       "    </tr>\n",
       "  </thead>\n",
       "  <tbody>\n",
       "    <tr>\n",
       "      <th>count</th>\n",
       "      <td>8001.000000</td>\n",
       "      <td>8001.000000</td>\n",
       "      <td>8001.000000</td>\n",
       "      <td>8001.000000</td>\n",
       "      <td>8001.000000</td>\n",
       "      <td>8001.000000</td>\n",
       "      <td>8001.000000</td>\n",
       "      <td>8001.000000</td>\n",
       "      <td>8001.000000</td>\n",
       "      <td>8001.000000</td>\n",
       "      <td>8001.000000</td>\n",
       "      <td>8001.000000</td>\n",
       "      <td>8001.000000</td>\n",
       "      <td>8001.000000</td>\n",
       "      <td>8001.000000</td>\n",
       "      <td>8001.000000</td>\n",
       "      <td>8001.000000</td>\n",
       "      <td>8001.000000</td>\n",
       "    </tr>\n",
       "    <tr>\n",
       "      <th>mean</th>\n",
       "      <td>5.966004</td>\n",
       "      <td>1.398700</td>\n",
       "      <td>30.806938</td>\n",
       "      <td>0.629658</td>\n",
       "      <td>1.467630</td>\n",
       "      <td>4.421146</td>\n",
       "      <td>2.690463</td>\n",
       "      <td>11.899694</td>\n",
       "      <td>1.919544</td>\n",
       "      <td>12.253954</td>\n",
       "      <td>1.213795</td>\n",
       "      <td>28.763676</td>\n",
       "      <td>0.821562</td>\n",
       "      <td>2.193420</td>\n",
       "      <td>4.218717</td>\n",
       "      <td>12.616810</td>\n",
       "      <td>2.367952</td>\n",
       "      <td>0.549988</td>\n",
       "    </tr>\n",
       "    <tr>\n",
       "      <th>std</th>\n",
       "      <td>3.548182</td>\n",
       "      <td>0.489661</td>\n",
       "      <td>7.298917</td>\n",
       "      <td>0.982504</td>\n",
       "      <td>1.108697</td>\n",
       "      <td>3.144965</td>\n",
       "      <td>1.713136</td>\n",
       "      <td>2.788231</td>\n",
       "      <td>1.205449</td>\n",
       "      <td>2.039085</td>\n",
       "      <td>0.964364</td>\n",
       "      <td>6.477470</td>\n",
       "      <td>0.674663</td>\n",
       "      <td>1.038942</td>\n",
       "      <td>2.052946</td>\n",
       "      <td>2.075401</td>\n",
       "      <td>1.313927</td>\n",
       "      <td>0.186788</td>\n",
       "    </tr>\n",
       "    <tr>\n",
       "      <th>min</th>\n",
       "      <td>3.000000</td>\n",
       "      <td>1.000000</td>\n",
       "      <td>5.176078</td>\n",
       "      <td>-0.998184</td>\n",
       "      <td>0.000497</td>\n",
       "      <td>0.003135</td>\n",
       "      <td>0.000000</td>\n",
       "      <td>2.156000</td>\n",
       "      <td>0.000200</td>\n",
       "      <td>1.389800</td>\n",
       "      <td>0.000400</td>\n",
       "      <td>8.449117</td>\n",
       "      <td>0.028865</td>\n",
       "      <td>0.000164</td>\n",
       "      <td>0.000467</td>\n",
       "      <td>2.161200</td>\n",
       "      <td>0.000200</td>\n",
       "      <td>0.003201</td>\n",
       "    </tr>\n",
       "    <tr>\n",
       "      <th>25%</th>\n",
       "      <td>3.000000</td>\n",
       "      <td>1.000000</td>\n",
       "      <td>26.770290</td>\n",
       "      <td>-0.027092</td>\n",
       "      <td>0.539500</td>\n",
       "      <td>1.641161</td>\n",
       "      <td>1.444233</td>\n",
       "      <td>11.221400</td>\n",
       "      <td>0.942400</td>\n",
       "      <td>11.374200</td>\n",
       "      <td>0.551800</td>\n",
       "      <td>24.033218</td>\n",
       "      <td>0.404815</td>\n",
       "      <td>1.354458</td>\n",
       "      <td>2.733674</td>\n",
       "      <td>12.082400</td>\n",
       "      <td>1.352200</td>\n",
       "      <td>0.432164</td>\n",
       "    </tr>\n",
       "    <tr>\n",
       "      <th>50%</th>\n",
       "      <td>5.000000</td>\n",
       "      <td>1.000000</td>\n",
       "      <td>32.417690</td>\n",
       "      <td>0.445870</td>\n",
       "      <td>1.210847</td>\n",
       "      <td>3.860266</td>\n",
       "      <td>2.360894</td>\n",
       "      <td>12.691800</td>\n",
       "      <td>1.829400</td>\n",
       "      <td>12.551600</td>\n",
       "      <td>0.983800</td>\n",
       "      <td>29.793417</td>\n",
       "      <td>0.658382</td>\n",
       "      <td>2.168822</td>\n",
       "      <td>4.126864</td>\n",
       "      <td>12.901600</td>\n",
       "      <td>2.332000</td>\n",
       "      <td>0.507559</td>\n",
       "    </tr>\n",
       "    <tr>\n",
       "      <th>75%</th>\n",
       "      <td>7.000000</td>\n",
       "      <td>2.000000</td>\n",
       "      <td>35.681431</td>\n",
       "      <td>0.970844</td>\n",
       "      <td>2.215955</td>\n",
       "      <td>7.029345</td>\n",
       "      <td>3.565853</td>\n",
       "      <td>13.553000</td>\n",
       "      <td>2.745200</td>\n",
       "      <td>13.498000</td>\n",
       "      <td>1.596600</td>\n",
       "      <td>33.581003</td>\n",
       "      <td>1.021397</td>\n",
       "      <td>3.022677</td>\n",
       "      <td>5.595515</td>\n",
       "      <td>13.712800</td>\n",
       "      <td>3.259000</td>\n",
       "      <td>0.624135</td>\n",
       "    </tr>\n",
       "    <tr>\n",
       "      <th>max</th>\n",
       "      <td>38.000000</td>\n",
       "      <td>2.000000</td>\n",
       "      <td>55.052795</td>\n",
       "      <td>12.815893</td>\n",
       "      <td>7.569757</td>\n",
       "      <td>11.886069</td>\n",
       "      <td>14.480546</td>\n",
       "      <td>18.125600</td>\n",
       "      <td>7.746200</td>\n",
       "      <td>18.745800</td>\n",
       "      <td>9.352600</td>\n",
       "      <td>54.207506</td>\n",
       "      <td>6.730275</td>\n",
       "      <td>4.114361</td>\n",
       "      <td>9.997963</td>\n",
       "      <td>20.211000</td>\n",
       "      <td>6.852600</td>\n",
       "      <td>1.635257</td>\n",
       "    </tr>\n",
       "  </tbody>\n",
       "</table>\n",
       "</div>"
      ],
      "text/plain": [
       "             rally        serve        speed  net.clearance  \\\n",
       "count  8001.000000  8001.000000  8001.000000    8001.000000   \n",
       "mean      5.966004     1.398700    30.806938       0.629658   \n",
       "std       3.548182     0.489661     7.298917       0.982504   \n",
       "min       3.000000     1.000000     5.176078      -0.998184   \n",
       "25%       3.000000     1.000000    26.770290      -0.027092   \n",
       "50%       5.000000     1.000000    32.417690       0.445870   \n",
       "75%       7.000000     2.000000    35.681431       0.970844   \n",
       "max      38.000000     2.000000    55.052795      12.815893   \n",
       "\n",
       "       distance.from.sideline        depth  player.distance.travelled  \\\n",
       "count             8001.000000  8001.000000                8001.000000   \n",
       "mean                 1.467630     4.421146                   2.690463   \n",
       "std                  1.108697     3.144965                   1.713136   \n",
       "min                  0.000497     0.003135                   0.000000   \n",
       "25%                  0.539500     1.641161                   1.444233   \n",
       "50%                  1.210847     3.860266                   2.360894   \n",
       "75%                  2.215955     7.029345                   3.565853   \n",
       "max                  7.569757    11.886069                  14.480546   \n",
       "\n",
       "       player.impact.depth  player.impact.distance.from.center  player.depth  \\\n",
       "count          8001.000000                         8001.000000   8001.000000   \n",
       "mean             11.899694                            1.919544     12.253954   \n",
       "std               2.788231                            1.205449      2.039085   \n",
       "min               2.156000                            0.000200      1.389800   \n",
       "25%              11.221400                            0.942400     11.374200   \n",
       "50%              12.691800                            1.829400     12.551600   \n",
       "75%              13.553000                            2.745200     13.498000   \n",
       "max              18.125600                            7.746200     18.745800   \n",
       "\n",
       "       player.distance.from.center  previous.speed  previous.net.clearance  \\\n",
       "count                  8001.000000     8001.000000             8001.000000   \n",
       "mean                      1.213795       28.763676                0.821562   \n",
       "std                       0.964364        6.477470                0.674663   \n",
       "min                       0.000400        8.449117                0.028865   \n",
       "25%                       0.551800       24.033218                0.404815   \n",
       "50%                       0.983800       29.793417                0.658382   \n",
       "75%                       1.596600       33.581003                1.021397   \n",
       "max                       9.352600       54.207506                6.730275   \n",
       "\n",
       "       previous.distance.from.sideline  previous.depth  opponent.depth  \\\n",
       "count                      8001.000000     8001.000000     8001.000000   \n",
       "mean                          2.193420        4.218717       12.616810   \n",
       "std                           1.038942        2.052946        2.075401   \n",
       "min                           0.000164        0.000467        2.161200   \n",
       "25%                           1.354458        2.733674       12.082400   \n",
       "50%                           2.168822        4.126864       12.901600   \n",
       "75%                           3.022677        5.595515       13.712800   \n",
       "max                           4.114361        9.997963       20.211000   \n",
       "\n",
       "       opponent.distance.from.center  previous.time.to.net  \n",
       "count                    8001.000000           8001.000000  \n",
       "mean                        2.367952              0.549988  \n",
       "std                         1.313927              0.186788  \n",
       "min                         0.000200              0.003201  \n",
       "25%                         1.352200              0.432164  \n",
       "50%                         2.332000              0.507559  \n",
       "75%                         3.259000              0.624135  \n",
       "max                         6.852600              1.635257  "
      ]
     },
     "execution_count": 183,
     "metadata": {},
     "output_type": "execute_result"
    }
   ],
   "source": [
    "data.describe()"
   ]
  },
  {
   "cell_type": "code",
   "execution_count": 184,
   "metadata": {},
   "outputs": [
    {
     "data": {
      "text/html": [
       "<div>\n",
       "<style scoped>\n",
       "    .dataframe tbody tr th:only-of-type {\n",
       "        vertical-align: middle;\n",
       "    }\n",
       "\n",
       "    .dataframe tbody tr th {\n",
       "        vertical-align: top;\n",
       "    }\n",
       "\n",
       "    .dataframe thead th {\n",
       "        text-align: right;\n",
       "    }\n",
       "</style>\n",
       "<table border=\"1\" class=\"dataframe\">\n",
       "  <thead>\n",
       "    <tr style=\"text-align: right;\">\n",
       "      <th></th>\n",
       "      <th>hitpoint</th>\n",
       "      <th>outside.sideline</th>\n",
       "      <th>outside.baseline</th>\n",
       "      <th>same.side</th>\n",
       "      <th>previous.hitpoint</th>\n",
       "      <th>server.is.impact.player</th>\n",
       "      <th>outcome</th>\n",
       "      <th>gender</th>\n",
       "    </tr>\n",
       "  </thead>\n",
       "  <tbody>\n",
       "    <tr>\n",
       "      <th>count</th>\n",
       "      <td>8001</td>\n",
       "      <td>8001</td>\n",
       "      <td>8001</td>\n",
       "      <td>8001</td>\n",
       "      <td>8001</td>\n",
       "      <td>8001</td>\n",
       "      <td>8001</td>\n",
       "      <td>8001</td>\n",
       "    </tr>\n",
       "    <tr>\n",
       "      <th>unique</th>\n",
       "      <td>4</td>\n",
       "      <td>2</td>\n",
       "      <td>2</td>\n",
       "      <td>2</td>\n",
       "      <td>4</td>\n",
       "      <td>2</td>\n",
       "      <td>3</td>\n",
       "      <td>2</td>\n",
       "    </tr>\n",
       "    <tr>\n",
       "      <th>top</th>\n",
       "      <td>F</td>\n",
       "      <td>False</td>\n",
       "      <td>False</td>\n",
       "      <td>False</td>\n",
       "      <td>F</td>\n",
       "      <td>True</td>\n",
       "      <td>UE</td>\n",
       "      <td>mens</td>\n",
       "    </tr>\n",
       "    <tr>\n",
       "      <th>freq</th>\n",
       "      <td>4402</td>\n",
       "      <td>6500</td>\n",
       "      <td>6380</td>\n",
       "      <td>6036</td>\n",
       "      <td>3684</td>\n",
       "      <td>4670</td>\n",
       "      <td>3501</td>\n",
       "      <td>4005</td>\n",
       "    </tr>\n",
       "  </tbody>\n",
       "</table>\n",
       "</div>"
      ],
      "text/plain": [
       "       hitpoint outside.sideline outside.baseline same.side previous.hitpoint  \\\n",
       "count      8001             8001             8001      8001              8001   \n",
       "unique        4                2                2         2                 4   \n",
       "top           F            False            False     False                 F   \n",
       "freq       4402             6500             6380      6036              3684   \n",
       "\n",
       "       server.is.impact.player outcome gender  \n",
       "count                     8001    8001   8001  \n",
       "unique                       2       3      2  \n",
       "top                       True      UE   mens  \n",
       "freq                      4670    3501   4005  "
      ]
     },
     "execution_count": 184,
     "metadata": {},
     "output_type": "execute_result"
    }
   ],
   "source": [
    "data.describe(include=['category'])"
   ]
  },
  {
   "cell_type": "markdown",
   "metadata": {},
   "source": [
    "#### Checking for null values"
   ]
  },
  {
   "cell_type": "code",
   "execution_count": 185,
   "metadata": {
    "scrolled": true
   },
   "outputs": [
    {
     "data": {
      "text/plain": [
       "rally                                 0\n",
       "serve                                 0\n",
       "hitpoint                              0\n",
       "speed                                 0\n",
       "net.clearance                         0\n",
       "distance.from.sideline                0\n",
       "depth                                 0\n",
       "outside.sideline                      0\n",
       "outside.baseline                      0\n",
       "player.distance.travelled             0\n",
       "player.impact.depth                   0\n",
       "player.impact.distance.from.center    0\n",
       "player.depth                          0\n",
       "player.distance.from.center           0\n",
       "previous.speed                        0\n",
       "previous.net.clearance                0\n",
       "previous.distance.from.sideline       0\n",
       "previous.depth                        0\n",
       "opponent.depth                        0\n",
       "opponent.distance.from.center         0\n",
       "same.side                             0\n",
       "previous.hitpoint                     0\n",
       "previous.time.to.net                  0\n",
       "server.is.impact.player               0\n",
       "outcome                               0\n",
       "gender                                0\n",
       "dtype: int64"
      ]
     },
     "execution_count": 185,
     "metadata": {},
     "output_type": "execute_result"
    }
   ],
   "source": [
    "data.isnull().sum()"
   ]
  },
  {
   "cell_type": "markdown",
   "metadata": {},
   "source": [
    "#### Display all the columns"
   ]
  },
  {
   "cell_type": "code",
   "execution_count": 186,
   "metadata": {},
   "outputs": [
    {
     "data": {
      "text/plain": [
       "Index(['rally', 'serve', 'hitpoint', 'speed', 'net.clearance',\n",
       "       'distance.from.sideline', 'depth', 'outside.sideline',\n",
       "       'outside.baseline', 'player.distance.travelled', 'player.impact.depth',\n",
       "       'player.impact.distance.from.center', 'player.depth',\n",
       "       'player.distance.from.center', 'previous.speed',\n",
       "       'previous.net.clearance', 'previous.distance.from.sideline',\n",
       "       'previous.depth', 'opponent.depth', 'opponent.distance.from.center',\n",
       "       'same.side', 'previous.hitpoint', 'previous.time.to.net',\n",
       "       'server.is.impact.player', 'outcome', 'gender'],\n",
       "      dtype='object')"
      ]
     },
     "execution_count": 186,
     "metadata": {},
     "output_type": "execute_result"
    }
   ],
   "source": [
    "data.columns"
   ]
  },
  {
   "cell_type": "markdown",
   "metadata": {},
   "source": [
    "#### Creating a list of numerical attributes"
   ]
  },
  {
   "cell_type": "code",
   "execution_count": 187,
   "metadata": {},
   "outputs": [],
   "source": [
    "numeric_list = ['rally','serve','speed','net.clearance','distance.from.sideline','depth','player.distance.travelled','player.impact.depth','player.impact.distance.from.center','player.depth','player.distance.from.center','previous.speed','previous.net.clearance','previous.distance.from.sideline','previous.depth','opponent.depth','opponent.distance.from.center','previous.time.to.net']\n",
    "numeric_data = data[numeric_list]"
   ]
  },
  {
   "cell_type": "markdown",
   "metadata": {},
   "source": [
    "#### Creating a list of categorical attributes"
   ]
  },
  {
   "cell_type": "code",
   "execution_count": 188,
   "metadata": {},
   "outputs": [],
   "source": [
    "categorical_list = [\"hitpoint\",\"outside.sideline\",\n",
    "                    \"outside.baseline\",\"same.side\",\"previous.hitpoint\",\"server.is.impact.player\",\"gender\"]"
   ]
  },
  {
   "cell_type": "code",
   "execution_count": 189,
   "metadata": {},
   "outputs": [],
   "source": [
    "from sklearn.preprocessing import LabelEncoder\n",
    "\n",
    "le1 = LabelEncoder()\n",
    "for i in categorical_list:\n",
    "    le1.fit(data[i])\n",
    "    data[i] = le1.transform(data[i])"
   ]
  },
  {
   "cell_type": "code",
   "execution_count": 190,
   "metadata": {},
   "outputs": [
    {
     "data": {
      "text/html": [
       "<div>\n",
       "<style scoped>\n",
       "    .dataframe tbody tr th:only-of-type {\n",
       "        vertical-align: middle;\n",
       "    }\n",
       "\n",
       "    .dataframe tbody tr th {\n",
       "        vertical-align: top;\n",
       "    }\n",
       "\n",
       "    .dataframe thead th {\n",
       "        text-align: right;\n",
       "    }\n",
       "</style>\n",
       "<table border=\"1\" class=\"dataframe\">\n",
       "  <thead>\n",
       "    <tr style=\"text-align: right;\">\n",
       "      <th></th>\n",
       "      <th>rally</th>\n",
       "      <th>serve</th>\n",
       "      <th>hitpoint</th>\n",
       "      <th>speed</th>\n",
       "      <th>net.clearance</th>\n",
       "      <th>distance.from.sideline</th>\n",
       "      <th>depth</th>\n",
       "      <th>outside.sideline</th>\n",
       "      <th>outside.baseline</th>\n",
       "      <th>player.distance.travelled</th>\n",
       "      <th>...</th>\n",
       "      <th>previous.distance.from.sideline</th>\n",
       "      <th>previous.depth</th>\n",
       "      <th>opponent.depth</th>\n",
       "      <th>opponent.distance.from.center</th>\n",
       "      <th>same.side</th>\n",
       "      <th>previous.hitpoint</th>\n",
       "      <th>previous.time.to.net</th>\n",
       "      <th>server.is.impact.player</th>\n",
       "      <th>outcome</th>\n",
       "      <th>gender</th>\n",
       "    </tr>\n",
       "  </thead>\n",
       "  <tbody>\n",
       "    <tr>\n",
       "      <th>0</th>\n",
       "      <td>4</td>\n",
       "      <td>1</td>\n",
       "      <td>0</td>\n",
       "      <td>35.515042</td>\n",
       "      <td>-0.021725</td>\n",
       "      <td>3.474766</td>\n",
       "      <td>6.797621</td>\n",
       "      <td>0</td>\n",
       "      <td>0</td>\n",
       "      <td>1.467570</td>\n",
       "      <td>...</td>\n",
       "      <td>2.449182</td>\n",
       "      <td>0.705435</td>\n",
       "      <td>12.5628</td>\n",
       "      <td>2.0724</td>\n",
       "      <td>1</td>\n",
       "      <td>1</td>\n",
       "      <td>0.445318</td>\n",
       "      <td>0</td>\n",
       "      <td>UE</td>\n",
       "      <td>0</td>\n",
       "    </tr>\n",
       "    <tr>\n",
       "      <th>1</th>\n",
       "      <td>4</td>\n",
       "      <td>2</td>\n",
       "      <td>0</td>\n",
       "      <td>33.382640</td>\n",
       "      <td>1.114202</td>\n",
       "      <td>2.540801</td>\n",
       "      <td>2.608708</td>\n",
       "      <td>0</td>\n",
       "      <td>1</td>\n",
       "      <td>2.311931</td>\n",
       "      <td>...</td>\n",
       "      <td>0.583291</td>\n",
       "      <td>3.856600</td>\n",
       "      <td>12.3544</td>\n",
       "      <td>5.1124</td>\n",
       "      <td>0</td>\n",
       "      <td>0</td>\n",
       "      <td>0.432434</td>\n",
       "      <td>0</td>\n",
       "      <td>FE</td>\n",
       "      <td>0</td>\n",
       "    </tr>\n",
       "    <tr>\n",
       "      <th>2</th>\n",
       "      <td>23</td>\n",
       "      <td>1</td>\n",
       "      <td>0</td>\n",
       "      <td>22.316690</td>\n",
       "      <td>-0.254046</td>\n",
       "      <td>3.533166</td>\n",
       "      <td>9.435749</td>\n",
       "      <td>0</td>\n",
       "      <td>0</td>\n",
       "      <td>3.903728</td>\n",
       "      <td>...</td>\n",
       "      <td>1.115250</td>\n",
       "      <td>2.908892</td>\n",
       "      <td>13.8620</td>\n",
       "      <td>1.6564</td>\n",
       "      <td>0</td>\n",
       "      <td>1</td>\n",
       "      <td>0.397538</td>\n",
       "      <td>1</td>\n",
       "      <td>FE</td>\n",
       "      <td>0</td>\n",
       "    </tr>\n",
       "    <tr>\n",
       "      <th>3</th>\n",
       "      <td>9</td>\n",
       "      <td>1</td>\n",
       "      <td>1</td>\n",
       "      <td>36.837309</td>\n",
       "      <td>0.766694</td>\n",
       "      <td>0.586885</td>\n",
       "      <td>3.342180</td>\n",
       "      <td>1</td>\n",
       "      <td>0</td>\n",
       "      <td>0.583745</td>\n",
       "      <td>...</td>\n",
       "      <td>3.256695</td>\n",
       "      <td>0.557554</td>\n",
       "      <td>14.2596</td>\n",
       "      <td>0.1606</td>\n",
       "      <td>1</td>\n",
       "      <td>0</td>\n",
       "      <td>0.671984</td>\n",
       "      <td>1</td>\n",
       "      <td>UE</td>\n",
       "      <td>0</td>\n",
       "    </tr>\n",
       "    <tr>\n",
       "      <th>4</th>\n",
       "      <td>4</td>\n",
       "      <td>1</td>\n",
       "      <td>0</td>\n",
       "      <td>35.544208</td>\n",
       "      <td>0.116162</td>\n",
       "      <td>0.918725</td>\n",
       "      <td>5.499119</td>\n",
       "      <td>0</td>\n",
       "      <td>0</td>\n",
       "      <td>2.333456</td>\n",
       "      <td>...</td>\n",
       "      <td>1.431146</td>\n",
       "      <td>3.945317</td>\n",
       "      <td>11.3658</td>\n",
       "      <td>1.1082</td>\n",
       "      <td>0</td>\n",
       "      <td>1</td>\n",
       "      <td>0.340411</td>\n",
       "      <td>0</td>\n",
       "      <td>W</td>\n",
       "      <td>0</td>\n",
       "    </tr>\n",
       "  </tbody>\n",
       "</table>\n",
       "<p>5 rows × 26 columns</p>\n",
       "</div>"
      ],
      "text/plain": [
       "   rally  serve  hitpoint      speed  net.clearance  distance.from.sideline  \\\n",
       "0      4      1         0  35.515042      -0.021725                3.474766   \n",
       "1      4      2         0  33.382640       1.114202                2.540801   \n",
       "2     23      1         0  22.316690      -0.254046                3.533166   \n",
       "3      9      1         1  36.837309       0.766694                0.586885   \n",
       "4      4      1         0  35.544208       0.116162                0.918725   \n",
       "\n",
       "      depth  outside.sideline  outside.baseline  player.distance.travelled  \\\n",
       "0  6.797621                 0                 0                   1.467570   \n",
       "1  2.608708                 0                 1                   2.311931   \n",
       "2  9.435749                 0                 0                   3.903728   \n",
       "3  3.342180                 1                 0                   0.583745   \n",
       "4  5.499119                 0                 0                   2.333456   \n",
       "\n",
       "   ...  previous.distance.from.sideline  previous.depth  opponent.depth  \\\n",
       "0  ...                         2.449182        0.705435         12.5628   \n",
       "1  ...                         0.583291        3.856600         12.3544   \n",
       "2  ...                         1.115250        2.908892         13.8620   \n",
       "3  ...                         3.256695        0.557554         14.2596   \n",
       "4  ...                         1.431146        3.945317         11.3658   \n",
       "\n",
       "   opponent.distance.from.center  same.side  previous.hitpoint  \\\n",
       "0                         2.0724          1                  1   \n",
       "1                         5.1124          0                  0   \n",
       "2                         1.6564          0                  1   \n",
       "3                         0.1606          1                  0   \n",
       "4                         1.1082          0                  1   \n",
       "\n",
       "   previous.time.to.net  server.is.impact.player  outcome  gender  \n",
       "0              0.445318                        0       UE       0  \n",
       "1              0.432434                        0       FE       0  \n",
       "2              0.397538                        1       FE       0  \n",
       "3              0.671984                        1       UE       0  \n",
       "4              0.340411                        0        W       0  \n",
       "\n",
       "[5 rows x 26 columns]"
      ]
     },
     "execution_count": 190,
     "metadata": {},
     "output_type": "execute_result"
    }
   ],
   "source": [
    "data.head()"
   ]
  },
  {
   "cell_type": "code",
   "execution_count": 191,
   "metadata": {
    "scrolled": true
   },
   "outputs": [
    {
     "name": "stdout",
     "output_type": "stream",
     "text": [
      "(6400, 25)\n",
      "(1601, 25)\n",
      "(6400,)\n",
      "(1601,)\n"
     ]
    }
   ],
   "source": [
    "# Divide into train and test\n",
    "y=data[\"outcome\"]\n",
    "X=data.drop('outcome', axis=1)\n",
    "X_train, X_test, y_train, y_test = train_test_split(X, y, test_size=0.20)\n",
    "print(X_train.shape)\n",
    "print(X_test.shape)\n",
    "print(y_train.shape)\n",
    "print(y_test.shape)"
   ]
  },
  {
   "cell_type": "code",
   "execution_count": 192,
   "metadata": {},
   "outputs": [
    {
     "data": {
      "text/plain": [
       "UE    2767\n",
       "W     2171\n",
       "FE    1462\n",
       "Name: outcome, dtype: int64"
      ]
     },
     "execution_count": 192,
     "metadata": {},
     "output_type": "execute_result"
    }
   ],
   "source": [
    "y_train.value_counts()"
   ]
  },
  {
   "cell_type": "markdown",
   "metadata": {},
   "source": [
    "#### With Standardization"
   ]
  },
  {
   "cell_type": "code",
   "execution_count": 193,
   "metadata": {},
   "outputs": [],
   "source": [
    "from sklearn.preprocessing import StandardScaler\n",
    "from sklearn.preprocessing import OneHotEncoder"
   ]
  },
  {
   "cell_type": "code",
   "execution_count": 194,
   "metadata": {},
   "outputs": [
    {
     "data": {
      "text/plain": [
       "rally                                   int64\n",
       "serve                                   int64\n",
       "hitpoint                                int64\n",
       "speed                                 float64\n",
       "net.clearance                         float64\n",
       "distance.from.sideline                float64\n",
       "depth                                 float64\n",
       "outside.sideline                        int64\n",
       "outside.baseline                        int64\n",
       "player.distance.travelled             float64\n",
       "player.impact.depth                   float64\n",
       "player.impact.distance.from.center    float64\n",
       "player.depth                          float64\n",
       "player.distance.from.center           float64\n",
       "previous.speed                        float64\n",
       "previous.net.clearance                float64\n",
       "previous.distance.from.sideline       float64\n",
       "previous.depth                        float64\n",
       "opponent.depth                        float64\n",
       "opponent.distance.from.center         float64\n",
       "same.side                               int64\n",
       "previous.hitpoint                       int64\n",
       "previous.time.to.net                  float64\n",
       "server.is.impact.player                 int64\n",
       "gender                                  int64\n",
       "dtype: object"
      ]
     },
     "execution_count": 194,
     "metadata": {},
     "output_type": "execute_result"
    }
   ],
   "source": [
    "X_train.dtypes"
   ]
  },
  {
   "cell_type": "code",
   "execution_count": 195,
   "metadata": {},
   "outputs": [],
   "source": [
    "continuous_cols=['rally','serve','speed','net.clearance','distance.from.sideline','depth','player.distance.travelled','player.impact.depth','player.impact.distance.from.center','player.depth','player.distance.from.center','previous.speed','previous.net.clearance','previous.distance.from.sideline','previous.depth','opponent.depth','opponent.distance.from.center','previous.time.to.net']\n",
    "categorical_cols=[\"hitpoint\",\"outside.sideline\",\n",
    "                    \"outside.baseline\",\"same.side\",\"previous.hitpoint\",\"server.is.impact.player\",\"gender\"]"
   ]
  },
  {
   "cell_type": "code",
   "execution_count": 196,
   "metadata": {},
   "outputs": [],
   "source": [
    "scaler = StandardScaler()\n",
    "scaler.fit(X_train[continuous_cols])\n",
    "\n",
    "X_train_num = pd.DataFrame(scaler.transform(X_train[continuous_cols]), columns=continuous_cols)\n",
    "X_test_num = pd.DataFrame(scaler.transform(X_test[continuous_cols]), columns=continuous_cols)"
   ]
  },
  {
   "cell_type": "code",
   "execution_count": 197,
   "metadata": {},
   "outputs": [
    {
     "data": {
      "text/html": [
       "<div>\n",
       "<style scoped>\n",
       "    .dataframe tbody tr th:only-of-type {\n",
       "        vertical-align: middle;\n",
       "    }\n",
       "\n",
       "    .dataframe tbody tr th {\n",
       "        vertical-align: top;\n",
       "    }\n",
       "\n",
       "    .dataframe thead th {\n",
       "        text-align: right;\n",
       "    }\n",
       "</style>\n",
       "<table border=\"1\" class=\"dataframe\">\n",
       "  <thead>\n",
       "    <tr style=\"text-align: right;\">\n",
       "      <th></th>\n",
       "      <th>rally</th>\n",
       "      <th>serve</th>\n",
       "      <th>speed</th>\n",
       "      <th>net.clearance</th>\n",
       "      <th>distance.from.sideline</th>\n",
       "      <th>depth</th>\n",
       "      <th>player.distance.travelled</th>\n",
       "      <th>player.impact.depth</th>\n",
       "      <th>player.impact.distance.from.center</th>\n",
       "      <th>player.depth</th>\n",
       "      <th>player.distance.from.center</th>\n",
       "      <th>previous.speed</th>\n",
       "      <th>previous.net.clearance</th>\n",
       "      <th>previous.distance.from.sideline</th>\n",
       "      <th>previous.depth</th>\n",
       "      <th>opponent.depth</th>\n",
       "      <th>opponent.distance.from.center</th>\n",
       "      <th>previous.time.to.net</th>\n",
       "    </tr>\n",
       "  </thead>\n",
       "  <tbody>\n",
       "    <tr>\n",
       "      <th>0</th>\n",
       "      <td>-0.826632</td>\n",
       "      <td>-0.815168</td>\n",
       "      <td>0.334783</td>\n",
       "      <td>0.199363</td>\n",
       "      <td>-0.765017</td>\n",
       "      <td>-1.204024</td>\n",
       "      <td>0.130585</td>\n",
       "      <td>-0.741256</td>\n",
       "      <td>-0.401646</td>\n",
       "      <td>-0.712978</td>\n",
       "      <td>0.086026</td>\n",
       "      <td>-1.400818</td>\n",
       "      <td>-0.017840</td>\n",
       "      <td>1.034988</td>\n",
       "      <td>0.634947</td>\n",
       "      <td>-0.480712</td>\n",
       "      <td>0.814835</td>\n",
       "      <td>0.682134</td>\n",
       "    </tr>\n",
       "    <tr>\n",
       "      <th>1</th>\n",
       "      <td>0.007560</td>\n",
       "      <td>-0.815168</td>\n",
       "      <td>0.293710</td>\n",
       "      <td>0.487594</td>\n",
       "      <td>0.857224</td>\n",
       "      <td>-1.307570</td>\n",
       "      <td>1.093291</td>\n",
       "      <td>0.631147</td>\n",
       "      <td>1.074472</td>\n",
       "      <td>0.838741</td>\n",
       "      <td>0.121077</td>\n",
       "      <td>0.016195</td>\n",
       "      <td>0.394119</td>\n",
       "      <td>-1.153055</td>\n",
       "      <td>-1.403107</td>\n",
       "      <td>0.327623</td>\n",
       "      <td>-1.783663</td>\n",
       "      <td>-0.172335</td>\n",
       "    </tr>\n",
       "    <tr>\n",
       "      <th>2</th>\n",
       "      <td>-0.826632</td>\n",
       "      <td>-0.815168</td>\n",
       "      <td>0.078221</td>\n",
       "      <td>-0.692645</td>\n",
       "      <td>0.015536</td>\n",
       "      <td>0.742131</td>\n",
       "      <td>-1.320338</td>\n",
       "      <td>-0.292535</td>\n",
       "      <td>-0.052576</td>\n",
       "      <td>-0.635704</td>\n",
       "      <td>0.232414</td>\n",
       "      <td>0.331064</td>\n",
       "      <td>-0.991767</td>\n",
       "      <td>1.173984</td>\n",
       "      <td>1.169029</td>\n",
       "      <td>-0.006076</td>\n",
       "      <td>1.339355</td>\n",
       "      <td>-0.382251</td>\n",
       "    </tr>\n",
       "    <tr>\n",
       "      <th>3</th>\n",
       "      <td>-0.826632</td>\n",
       "      <td>-0.815168</td>\n",
       "      <td>0.461045</td>\n",
       "      <td>-0.051382</td>\n",
       "      <td>-0.649263</td>\n",
       "      <td>-1.257422</td>\n",
       "      <td>-0.572307</td>\n",
       "      <td>-0.851849</td>\n",
       "      <td>-0.884169</td>\n",
       "      <td>-0.515542</td>\n",
       "      <td>-0.484681</td>\n",
       "      <td>-1.330220</td>\n",
       "      <td>0.429100</td>\n",
       "      <td>0.436658</td>\n",
       "      <td>0.532810</td>\n",
       "      <td>0.186206</td>\n",
       "      <td>0.397691</td>\n",
       "      <td>1.359821</td>\n",
       "    </tr>\n",
       "    <tr>\n",
       "      <th>4</th>\n",
       "      <td>0.563688</td>\n",
       "      <td>1.226741</td>\n",
       "      <td>-2.094231</td>\n",
       "      <td>-0.408501</td>\n",
       "      <td>-0.479723</td>\n",
       "      <td>0.096463</td>\n",
       "      <td>4.840486</td>\n",
       "      <td>-2.770874</td>\n",
       "      <td>0.560080</td>\n",
       "      <td>0.979555</td>\n",
       "      <td>0.410760</td>\n",
       "      <td>-2.859353</td>\n",
       "      <td>2.300631</td>\n",
       "      <td>-0.194781</td>\n",
       "      <td>2.459385</td>\n",
       "      <td>-3.632265</td>\n",
       "      <td>-0.559530</td>\n",
       "      <td>2.128145</td>\n",
       "    </tr>\n",
       "  </tbody>\n",
       "</table>\n",
       "</div>"
      ],
      "text/plain": [
       "      rally     serve     speed  net.clearance  distance.from.sideline  \\\n",
       "0 -0.826632 -0.815168  0.334783       0.199363               -0.765017   \n",
       "1  0.007560 -0.815168  0.293710       0.487594                0.857224   \n",
       "2 -0.826632 -0.815168  0.078221      -0.692645                0.015536   \n",
       "3 -0.826632 -0.815168  0.461045      -0.051382               -0.649263   \n",
       "4  0.563688  1.226741 -2.094231      -0.408501               -0.479723   \n",
       "\n",
       "      depth  player.distance.travelled  player.impact.depth  \\\n",
       "0 -1.204024                   0.130585            -0.741256   \n",
       "1 -1.307570                   1.093291             0.631147   \n",
       "2  0.742131                  -1.320338            -0.292535   \n",
       "3 -1.257422                  -0.572307            -0.851849   \n",
       "4  0.096463                   4.840486            -2.770874   \n",
       "\n",
       "   player.impact.distance.from.center  player.depth  \\\n",
       "0                           -0.401646     -0.712978   \n",
       "1                            1.074472      0.838741   \n",
       "2                           -0.052576     -0.635704   \n",
       "3                           -0.884169     -0.515542   \n",
       "4                            0.560080      0.979555   \n",
       "\n",
       "   player.distance.from.center  previous.speed  previous.net.clearance  \\\n",
       "0                     0.086026       -1.400818               -0.017840   \n",
       "1                     0.121077        0.016195                0.394119   \n",
       "2                     0.232414        0.331064               -0.991767   \n",
       "3                    -0.484681       -1.330220                0.429100   \n",
       "4                     0.410760       -2.859353                2.300631   \n",
       "\n",
       "   previous.distance.from.sideline  previous.depth  opponent.depth  \\\n",
       "0                         1.034988        0.634947       -0.480712   \n",
       "1                        -1.153055       -1.403107        0.327623   \n",
       "2                         1.173984        1.169029       -0.006076   \n",
       "3                         0.436658        0.532810        0.186206   \n",
       "4                        -0.194781        2.459385       -3.632265   \n",
       "\n",
       "   opponent.distance.from.center  previous.time.to.net  \n",
       "0                       0.814835              0.682134  \n",
       "1                      -1.783663             -0.172335  \n",
       "2                       1.339355             -0.382251  \n",
       "3                       0.397691              1.359821  \n",
       "4                      -0.559530              2.128145  "
      ]
     },
     "execution_count": 197,
     "metadata": {},
     "output_type": "execute_result"
    }
   ],
   "source": [
    "X_train_num.head()"
   ]
  },
  {
   "cell_type": "code",
   "execution_count": 198,
   "metadata": {},
   "outputs": [
    {
     "name": "stdout",
     "output_type": "stream",
     "text": [
      "1    3526\n",
      "0    2430\n",
      "2     344\n",
      "3     100\n",
      "Name: hitpoint, dtype: int64\n",
      "0    5199\n",
      "1    1201\n",
      "Name: outside.sideline, dtype: int64\n"
     ]
    }
   ],
   "source": [
    "print(X_train.hitpoint.value_counts())\n",
    "print(X_train['outside.sideline'].value_counts())"
   ]
  },
  {
   "cell_type": "code",
   "execution_count": 199,
   "metadata": {},
   "outputs": [
    {
     "name": "stdout",
     "output_type": "stream",
     "text": [
      "['x0_0.0', 'x0_1.0', 'x0_2.0', 'x0_3.0', 'x1_0.0', 'x1_1.0', 'x2_0.0', 'x2_1.0', 'x3_0.0', 'x3_1.0', 'x4_0.0', 'x4_1.0', 'x4_2.0', 'x4_3.0', 'x5_0.0', 'x5_1.0', 'x6_0.0', 'x6_1.0']\n"
     ]
    }
   ],
   "source": [
    "ohe = OneHotEncoder()\n",
    "\n",
    "ohe.fit(X_train[categorical_cols])\n",
    "\n",
    "columns_ohe = list(ohe.get_feature_names())\n",
    "print(columns_ohe)"
   ]
  },
  {
   "cell_type": "code",
   "execution_count": 200,
   "metadata": {},
   "outputs": [],
   "source": [
    "X_train_cat = ohe.transform(X_train[categorical_cols])\n",
    "X_test_cat = ohe.transform(X_test[categorical_cols])"
   ]
  },
  {
   "cell_type": "code",
   "execution_count": 201,
   "metadata": {},
   "outputs": [],
   "source": [
    "X_train_cat = pd.DataFrame(X_train_cat.todense(), columns=columns_ohe)\n",
    "X_test_cat = pd.DataFrame(X_test_cat.todense(), columns=columns_ohe)"
   ]
  },
  {
   "cell_type": "code",
   "execution_count": 202,
   "metadata": {},
   "outputs": [
    {
     "data": {
      "text/html": [
       "<div>\n",
       "<style scoped>\n",
       "    .dataframe tbody tr th:only-of-type {\n",
       "        vertical-align: middle;\n",
       "    }\n",
       "\n",
       "    .dataframe tbody tr th {\n",
       "        vertical-align: top;\n",
       "    }\n",
       "\n",
       "    .dataframe thead th {\n",
       "        text-align: right;\n",
       "    }\n",
       "</style>\n",
       "<table border=\"1\" class=\"dataframe\">\n",
       "  <thead>\n",
       "    <tr style=\"text-align: right;\">\n",
       "      <th></th>\n",
       "      <th>x0_0.0</th>\n",
       "      <th>x0_1.0</th>\n",
       "      <th>x0_2.0</th>\n",
       "      <th>x0_3.0</th>\n",
       "      <th>x1_0.0</th>\n",
       "      <th>x1_1.0</th>\n",
       "      <th>x2_0.0</th>\n",
       "      <th>x2_1.0</th>\n",
       "      <th>x3_0.0</th>\n",
       "      <th>x3_1.0</th>\n",
       "      <th>x4_0.0</th>\n",
       "      <th>x4_1.0</th>\n",
       "      <th>x4_2.0</th>\n",
       "      <th>x4_3.0</th>\n",
       "      <th>x5_0.0</th>\n",
       "      <th>x5_1.0</th>\n",
       "      <th>x6_0.0</th>\n",
       "      <th>x6_1.0</th>\n",
       "    </tr>\n",
       "  </thead>\n",
       "  <tbody>\n",
       "    <tr>\n",
       "      <th>0</th>\n",
       "      <td>0.0</td>\n",
       "      <td>1.0</td>\n",
       "      <td>0.0</td>\n",
       "      <td>0.0</td>\n",
       "      <td>1.0</td>\n",
       "      <td>0.0</td>\n",
       "      <td>1.0</td>\n",
       "      <td>0.0</td>\n",
       "      <td>1.0</td>\n",
       "      <td>0.0</td>\n",
       "      <td>1.0</td>\n",
       "      <td>0.0</td>\n",
       "      <td>0.0</td>\n",
       "      <td>0.0</td>\n",
       "      <td>0.0</td>\n",
       "      <td>1.0</td>\n",
       "      <td>1.0</td>\n",
       "      <td>0.0</td>\n",
       "    </tr>\n",
       "    <tr>\n",
       "      <th>1</th>\n",
       "      <td>1.0</td>\n",
       "      <td>0.0</td>\n",
       "      <td>0.0</td>\n",
       "      <td>0.0</td>\n",
       "      <td>1.0</td>\n",
       "      <td>0.0</td>\n",
       "      <td>0.0</td>\n",
       "      <td>1.0</td>\n",
       "      <td>0.0</td>\n",
       "      <td>1.0</td>\n",
       "      <td>0.0</td>\n",
       "      <td>1.0</td>\n",
       "      <td>0.0</td>\n",
       "      <td>0.0</td>\n",
       "      <td>1.0</td>\n",
       "      <td>0.0</td>\n",
       "      <td>1.0</td>\n",
       "      <td>0.0</td>\n",
       "    </tr>\n",
       "    <tr>\n",
       "      <th>2</th>\n",
       "      <td>1.0</td>\n",
       "      <td>0.0</td>\n",
       "      <td>0.0</td>\n",
       "      <td>0.0</td>\n",
       "      <td>1.0</td>\n",
       "      <td>0.0</td>\n",
       "      <td>1.0</td>\n",
       "      <td>0.0</td>\n",
       "      <td>1.0</td>\n",
       "      <td>0.0</td>\n",
       "      <td>0.0</td>\n",
       "      <td>1.0</td>\n",
       "      <td>0.0</td>\n",
       "      <td>0.0</td>\n",
       "      <td>0.0</td>\n",
       "      <td>1.0</td>\n",
       "      <td>1.0</td>\n",
       "      <td>0.0</td>\n",
       "    </tr>\n",
       "    <tr>\n",
       "      <th>3</th>\n",
       "      <td>0.0</td>\n",
       "      <td>1.0</td>\n",
       "      <td>0.0</td>\n",
       "      <td>0.0</td>\n",
       "      <td>1.0</td>\n",
       "      <td>0.0</td>\n",
       "      <td>1.0</td>\n",
       "      <td>0.0</td>\n",
       "      <td>1.0</td>\n",
       "      <td>0.0</td>\n",
       "      <td>0.0</td>\n",
       "      <td>1.0</td>\n",
       "      <td>0.0</td>\n",
       "      <td>0.0</td>\n",
       "      <td>0.0</td>\n",
       "      <td>1.0</td>\n",
       "      <td>1.0</td>\n",
       "      <td>0.0</td>\n",
       "    </tr>\n",
       "    <tr>\n",
       "      <th>4</th>\n",
       "      <td>1.0</td>\n",
       "      <td>0.0</td>\n",
       "      <td>0.0</td>\n",
       "      <td>0.0</td>\n",
       "      <td>1.0</td>\n",
       "      <td>0.0</td>\n",
       "      <td>1.0</td>\n",
       "      <td>0.0</td>\n",
       "      <td>0.0</td>\n",
       "      <td>1.0</td>\n",
       "      <td>1.0</td>\n",
       "      <td>0.0</td>\n",
       "      <td>0.0</td>\n",
       "      <td>0.0</td>\n",
       "      <td>1.0</td>\n",
       "      <td>0.0</td>\n",
       "      <td>0.0</td>\n",
       "      <td>1.0</td>\n",
       "    </tr>\n",
       "  </tbody>\n",
       "</table>\n",
       "</div>"
      ],
      "text/plain": [
       "   x0_0.0  x0_1.0  x0_2.0  x0_3.0  x1_0.0  x1_1.0  x2_0.0  x2_1.0  x3_0.0  \\\n",
       "0     0.0     1.0     0.0     0.0     1.0     0.0     1.0     0.0     1.0   \n",
       "1     1.0     0.0     0.0     0.0     1.0     0.0     0.0     1.0     0.0   \n",
       "2     1.0     0.0     0.0     0.0     1.0     0.0     1.0     0.0     1.0   \n",
       "3     0.0     1.0     0.0     0.0     1.0     0.0     1.0     0.0     1.0   \n",
       "4     1.0     0.0     0.0     0.0     1.0     0.0     1.0     0.0     0.0   \n",
       "\n",
       "   x3_1.0  x4_0.0  x4_1.0  x4_2.0  x4_3.0  x5_0.0  x5_1.0  x6_0.0  x6_1.0  \n",
       "0     0.0     1.0     0.0     0.0     0.0     0.0     1.0     1.0     0.0  \n",
       "1     1.0     0.0     1.0     0.0     0.0     1.0     0.0     1.0     0.0  \n",
       "2     0.0     0.0     1.0     0.0     0.0     0.0     1.0     1.0     0.0  \n",
       "3     0.0     0.0     1.0     0.0     0.0     0.0     1.0     1.0     0.0  \n",
       "4     1.0     1.0     0.0     0.0     0.0     1.0     0.0     0.0     1.0  "
      ]
     },
     "execution_count": 202,
     "metadata": {},
     "output_type": "execute_result"
    }
   ],
   "source": [
    "X_train_cat.head()"
   ]
  },
  {
   "cell_type": "code",
   "execution_count": 203,
   "metadata": {},
   "outputs": [],
   "source": [
    "# X_train_num = X_train.drop(columns=categorical_cols, axis=1)\n",
    "# X_test_num = X_test.drop(columns=categorical_cols, axis=1)"
   ]
  },
  {
   "cell_type": "code",
   "execution_count": 204,
   "metadata": {},
   "outputs": [],
   "source": [
    "X_train = pd.concat([X_train_cat, X_train_num], axis=1)\n",
    "X_test = pd.concat([X_test_cat, X_test_num], axis=1)"
   ]
  },
  {
   "cell_type": "code",
   "execution_count": 205,
   "metadata": {},
   "outputs": [
    {
     "data": {
      "text/html": [
       "<div>\n",
       "<style scoped>\n",
       "    .dataframe tbody tr th:only-of-type {\n",
       "        vertical-align: middle;\n",
       "    }\n",
       "\n",
       "    .dataframe tbody tr th {\n",
       "        vertical-align: top;\n",
       "    }\n",
       "\n",
       "    .dataframe thead th {\n",
       "        text-align: right;\n",
       "    }\n",
       "</style>\n",
       "<table border=\"1\" class=\"dataframe\">\n",
       "  <thead>\n",
       "    <tr style=\"text-align: right;\">\n",
       "      <th></th>\n",
       "      <th>x0_0.0</th>\n",
       "      <th>x0_1.0</th>\n",
       "      <th>x0_2.0</th>\n",
       "      <th>x0_3.0</th>\n",
       "      <th>x1_0.0</th>\n",
       "      <th>x1_1.0</th>\n",
       "      <th>x2_0.0</th>\n",
       "      <th>x2_1.0</th>\n",
       "      <th>x3_0.0</th>\n",
       "      <th>x3_1.0</th>\n",
       "      <th>...</th>\n",
       "      <th>player.impact.distance.from.center</th>\n",
       "      <th>player.depth</th>\n",
       "      <th>player.distance.from.center</th>\n",
       "      <th>previous.speed</th>\n",
       "      <th>previous.net.clearance</th>\n",
       "      <th>previous.distance.from.sideline</th>\n",
       "      <th>previous.depth</th>\n",
       "      <th>opponent.depth</th>\n",
       "      <th>opponent.distance.from.center</th>\n",
       "      <th>previous.time.to.net</th>\n",
       "    </tr>\n",
       "  </thead>\n",
       "  <tbody>\n",
       "    <tr>\n",
       "      <th>0</th>\n",
       "      <td>0.0</td>\n",
       "      <td>1.0</td>\n",
       "      <td>0.0</td>\n",
       "      <td>0.0</td>\n",
       "      <td>1.0</td>\n",
       "      <td>0.0</td>\n",
       "      <td>1.0</td>\n",
       "      <td>0.0</td>\n",
       "      <td>1.0</td>\n",
       "      <td>0.0</td>\n",
       "      <td>...</td>\n",
       "      <td>-0.401646</td>\n",
       "      <td>-0.712978</td>\n",
       "      <td>0.086026</td>\n",
       "      <td>-1.400818</td>\n",
       "      <td>-0.017840</td>\n",
       "      <td>1.034988</td>\n",
       "      <td>0.634947</td>\n",
       "      <td>-0.480712</td>\n",
       "      <td>0.814835</td>\n",
       "      <td>0.682134</td>\n",
       "    </tr>\n",
       "    <tr>\n",
       "      <th>1</th>\n",
       "      <td>1.0</td>\n",
       "      <td>0.0</td>\n",
       "      <td>0.0</td>\n",
       "      <td>0.0</td>\n",
       "      <td>1.0</td>\n",
       "      <td>0.0</td>\n",
       "      <td>0.0</td>\n",
       "      <td>1.0</td>\n",
       "      <td>0.0</td>\n",
       "      <td>1.0</td>\n",
       "      <td>...</td>\n",
       "      <td>1.074472</td>\n",
       "      <td>0.838741</td>\n",
       "      <td>0.121077</td>\n",
       "      <td>0.016195</td>\n",
       "      <td>0.394119</td>\n",
       "      <td>-1.153055</td>\n",
       "      <td>-1.403107</td>\n",
       "      <td>0.327623</td>\n",
       "      <td>-1.783663</td>\n",
       "      <td>-0.172335</td>\n",
       "    </tr>\n",
       "    <tr>\n",
       "      <th>2</th>\n",
       "      <td>1.0</td>\n",
       "      <td>0.0</td>\n",
       "      <td>0.0</td>\n",
       "      <td>0.0</td>\n",
       "      <td>1.0</td>\n",
       "      <td>0.0</td>\n",
       "      <td>1.0</td>\n",
       "      <td>0.0</td>\n",
       "      <td>1.0</td>\n",
       "      <td>0.0</td>\n",
       "      <td>...</td>\n",
       "      <td>-0.052576</td>\n",
       "      <td>-0.635704</td>\n",
       "      <td>0.232414</td>\n",
       "      <td>0.331064</td>\n",
       "      <td>-0.991767</td>\n",
       "      <td>1.173984</td>\n",
       "      <td>1.169029</td>\n",
       "      <td>-0.006076</td>\n",
       "      <td>1.339355</td>\n",
       "      <td>-0.382251</td>\n",
       "    </tr>\n",
       "    <tr>\n",
       "      <th>3</th>\n",
       "      <td>0.0</td>\n",
       "      <td>1.0</td>\n",
       "      <td>0.0</td>\n",
       "      <td>0.0</td>\n",
       "      <td>1.0</td>\n",
       "      <td>0.0</td>\n",
       "      <td>1.0</td>\n",
       "      <td>0.0</td>\n",
       "      <td>1.0</td>\n",
       "      <td>0.0</td>\n",
       "      <td>...</td>\n",
       "      <td>-0.884169</td>\n",
       "      <td>-0.515542</td>\n",
       "      <td>-0.484681</td>\n",
       "      <td>-1.330220</td>\n",
       "      <td>0.429100</td>\n",
       "      <td>0.436658</td>\n",
       "      <td>0.532810</td>\n",
       "      <td>0.186206</td>\n",
       "      <td>0.397691</td>\n",
       "      <td>1.359821</td>\n",
       "    </tr>\n",
       "    <tr>\n",
       "      <th>4</th>\n",
       "      <td>1.0</td>\n",
       "      <td>0.0</td>\n",
       "      <td>0.0</td>\n",
       "      <td>0.0</td>\n",
       "      <td>1.0</td>\n",
       "      <td>0.0</td>\n",
       "      <td>1.0</td>\n",
       "      <td>0.0</td>\n",
       "      <td>0.0</td>\n",
       "      <td>1.0</td>\n",
       "      <td>...</td>\n",
       "      <td>0.560080</td>\n",
       "      <td>0.979555</td>\n",
       "      <td>0.410760</td>\n",
       "      <td>-2.859353</td>\n",
       "      <td>2.300631</td>\n",
       "      <td>-0.194781</td>\n",
       "      <td>2.459385</td>\n",
       "      <td>-3.632265</td>\n",
       "      <td>-0.559530</td>\n",
       "      <td>2.128145</td>\n",
       "    </tr>\n",
       "  </tbody>\n",
       "</table>\n",
       "<p>5 rows × 36 columns</p>\n",
       "</div>"
      ],
      "text/plain": [
       "   x0_0.0  x0_1.0  x0_2.0  x0_3.0  x1_0.0  x1_1.0  x2_0.0  x2_1.0  x3_0.0  \\\n",
       "0     0.0     1.0     0.0     0.0     1.0     0.0     1.0     0.0     1.0   \n",
       "1     1.0     0.0     0.0     0.0     1.0     0.0     0.0     1.0     0.0   \n",
       "2     1.0     0.0     0.0     0.0     1.0     0.0     1.0     0.0     1.0   \n",
       "3     0.0     1.0     0.0     0.0     1.0     0.0     1.0     0.0     1.0   \n",
       "4     1.0     0.0     0.0     0.0     1.0     0.0     1.0     0.0     0.0   \n",
       "\n",
       "   x3_1.0  ...  player.impact.distance.from.center  player.depth  \\\n",
       "0     0.0  ...                           -0.401646     -0.712978   \n",
       "1     1.0  ...                            1.074472      0.838741   \n",
       "2     0.0  ...                           -0.052576     -0.635704   \n",
       "3     0.0  ...                           -0.884169     -0.515542   \n",
       "4     1.0  ...                            0.560080      0.979555   \n",
       "\n",
       "   player.distance.from.center  previous.speed  previous.net.clearance  \\\n",
       "0                     0.086026       -1.400818               -0.017840   \n",
       "1                     0.121077        0.016195                0.394119   \n",
       "2                     0.232414        0.331064               -0.991767   \n",
       "3                    -0.484681       -1.330220                0.429100   \n",
       "4                     0.410760       -2.859353                2.300631   \n",
       "\n",
       "   previous.distance.from.sideline  previous.depth  opponent.depth  \\\n",
       "0                         1.034988        0.634947       -0.480712   \n",
       "1                        -1.153055       -1.403107        0.327623   \n",
       "2                         1.173984        1.169029       -0.006076   \n",
       "3                         0.436658        0.532810        0.186206   \n",
       "4                        -0.194781        2.459385       -3.632265   \n",
       "\n",
       "   opponent.distance.from.center  previous.time.to.net  \n",
       "0                       0.814835              0.682134  \n",
       "1                      -1.783663             -0.172335  \n",
       "2                       1.339355             -0.382251  \n",
       "3                       0.397691              1.359821  \n",
       "4                      -0.559530              2.128145  \n",
       "\n",
       "[5 rows x 36 columns]"
      ]
     },
     "execution_count": 205,
     "metadata": {},
     "output_type": "execute_result"
    }
   ],
   "source": [
    "X_train.head()"
   ]
  },
  {
   "cell_type": "code",
   "execution_count": 206,
   "metadata": {},
   "outputs": [
    {
     "data": {
      "text/plain": [
       "x0_0.0                                0\n",
       "x0_1.0                                0\n",
       "x0_2.0                                0\n",
       "x0_3.0                                0\n",
       "x1_0.0                                0\n",
       "x1_1.0                                0\n",
       "x2_0.0                                0\n",
       "x2_1.0                                0\n",
       "x3_0.0                                0\n",
       "x3_1.0                                0\n",
       "x4_0.0                                0\n",
       "x4_1.0                                0\n",
       "x4_2.0                                0\n",
       "x4_3.0                                0\n",
       "x5_0.0                                0\n",
       "x5_1.0                                0\n",
       "x6_0.0                                0\n",
       "x6_1.0                                0\n",
       "rally                                 0\n",
       "serve                                 0\n",
       "speed                                 0\n",
       "net.clearance                         0\n",
       "distance.from.sideline                0\n",
       "depth                                 0\n",
       "player.distance.travelled             0\n",
       "player.impact.depth                   0\n",
       "player.impact.distance.from.center    0\n",
       "player.depth                          0\n",
       "player.distance.from.center           0\n",
       "previous.speed                        0\n",
       "previous.net.clearance                0\n",
       "previous.distance.from.sideline       0\n",
       "previous.depth                        0\n",
       "opponent.depth                        0\n",
       "opponent.distance.from.center         0\n",
       "previous.time.to.net                  0\n",
       "dtype: int64"
      ]
     },
     "execution_count": 206,
     "metadata": {},
     "output_type": "execute_result"
    }
   ],
   "source": [
    "X_train.isna().sum()"
   ]
  },
  {
   "cell_type": "code",
   "execution_count": 207,
   "metadata": {},
   "outputs": [
    {
     "name": "stdout",
     "output_type": "stream",
     "text": [
      "<class 'pandas.core.frame.DataFrame'>\n",
      "<class 'pandas.core.frame.DataFrame'>\n"
     ]
    }
   ],
   "source": [
    "print(type(X_train))\n",
    "print(type(X_test))"
   ]
  },
  {
   "cell_type": "code",
   "execution_count": 208,
   "metadata": {},
   "outputs": [
    {
     "name": "stdout",
     "output_type": "stream",
     "text": [
      "<class 'numpy.ndarray'>\n",
      "<class 'numpy.ndarray'>\n"
     ]
    }
   ],
   "source": [
    "X_train = X_train.values\n",
    "X_test = X_test.values\n",
    "\n",
    "print(type(X_train))\n",
    "print(type(X_test))"
   ]
  },
  {
   "cell_type": "markdown",
   "metadata": {},
   "source": [
    "## Model Building"
   ]
  },
  {
   "cell_type": "markdown",
   "metadata": {},
   "source": [
    "### Build AdaBoost Classifier\n",
    "<img src=\"img/bigd.png\">"
   ]
  },
  {
   "cell_type": "markdown",
   "metadata": {},
   "source": [
    "### Getting Started\n",
    "To begin with, a __weak classifier__ is trained, and __all of the example data samples are given an equal weight__. \n",
    "\n",
    "Once the initial classifier is trained, two things happen. \n",
    "- A weight is calculated for the classifier, with more accurate classifiers being given a higher weight, and less accurate a lower weight. The weight is calculated based on the classifier’s error rate, which is the __number of misclassifications in the training set, divided by total training set size__. This output weight per model is known as the __“alpha”__.\n",
    "\n",
    "    <img src=\"img/weightage_to_weak_learner.png\">\n",
    "\n",
    "- Secondly, the AdaBoost algorithm directs its attention to __misclassified data examples from our first weak classifier__, by assigning weights to each data sample, the value of which is defined by whether the classifier correctly or incorrectly classified the sample.\n",
    "\n",
    "    <img src=\"img/adaboost_formula.png\" >"
   ]
  },
  {
   "cell_type": "markdown",
   "metadata": {},
   "source": [
    "### Final Model\n",
    "\n",
    "Once all of the iterations have been completed, all of the __weak learners are combined with their weights to form a strong classifier__, as expressed in the below equation:\n",
    "\n",
    "<img src=\"img/final_model.png\">\n",
    "\n",
    "The final classifier is therefore __built up of “T” weak classifiers, ht(x) is the output of the weak classifier, with at the weight applied to the classifier__. \n",
    "\n",
    "The final output is therefore a combination of all of the classifiers."
   ]
  },
  {
   "cell_type": "markdown",
   "metadata": {},
   "source": [
    "#### Create Adaboost Classifier"
   ]
  },
  {
   "cell_type": "markdown",
   "metadata": {},
   "source": [
    "The most important parameters are base_estimator, n_estimators, and learning_rate.\n",
    "-  **base_estimator** is the learning algorithm to use to train the weak models. This will almost always not needed to be changed because by far the most common learner to use with AdaBoost is a decision tree – this parameter’s default argument.\n",
    "-  **n_estimators** is the number of models to iteratively train.\n",
    "-  **learning_rate** is the contribution of each model to the weights and defaults to 1. Reducing the learning rate will mean the weights will be increased or decreased to a small degree, forcing the model train slower (but sometimes resulting in better performance scores).\n",
    "-  **loss** is exclusive to AdaBoostRegressor and sets the loss function to use when updating weights. This defaults to a linear loss function however can be changed to square or exponential."
   ]
  },
  {
   "cell_type": "code",
   "execution_count": 211,
   "metadata": {},
   "outputs": [],
   "source": [
    "# Create adaboost-decision tree classifer object\n",
    "Adaboost_model = AdaBoostClassifier(\n",
    "    DecisionTreeClassifier(max_depth=2),\n",
    "    n_estimators = 600,\n",
    "    learning_rate = 1)"
   ]
  },
  {
   "cell_type": "code",
   "execution_count": 212,
   "metadata": {},
   "outputs": [
    {
     "name": "stdout",
     "output_type": "stream",
     "text": [
      "CPU times: user 22 s, sys: 0 ns, total: 22 s\n",
      "Wall time: 22.1 s\n"
     ]
    },
    {
     "data": {
      "text/plain": [
       "AdaBoostClassifier(algorithm='SAMME.R',\n",
       "                   base_estimator=DecisionTreeClassifier(class_weight=None,\n",
       "                                                         criterion='gini',\n",
       "                                                         max_depth=2,\n",
       "                                                         max_features=None,\n",
       "                                                         max_leaf_nodes=None,\n",
       "                                                         min_impurity_decrease=0.0,\n",
       "                                                         min_impurity_split=None,\n",
       "                                                         min_samples_leaf=1,\n",
       "                                                         min_samples_split=2,\n",
       "                                                         min_weight_fraction_leaf=0.0,\n",
       "                                                         presort=False,\n",
       "                                                         random_state=None,\n",
       "                                                         splitter='best'),\n",
       "                   learning_rate=1, n_estimators=600, random_state=None)"
      ]
     },
     "execution_count": 212,
     "metadata": {},
     "output_type": "execute_result"
    }
   ],
   "source": [
    "%time Adaboost_model.fit(X_train, y_train)"
   ]
  },
  {
   "cell_type": "code",
   "execution_count": 213,
   "metadata": {},
   "outputs": [],
   "source": [
    "y_preds = Adaboost_model.predict(X_test)"
   ]
  },
  {
   "cell_type": "code",
   "execution_count": 214,
   "metadata": {},
   "outputs": [
    {
     "name": "stdout",
     "output_type": "stream",
     "text": [
      "0.830106183635228\n"
     ]
    }
   ],
   "source": [
    "print(accuracy_score(y_test, y_preds))"
   ]
  },
  {
   "cell_type": "code",
   "execution_count": 218,
   "metadata": {},
   "outputs": [],
   "source": [
    "param_grid = {'n_estimators' : [100, 150, 200],\n",
    "              'learning_rate' : [0.1, 0.5, 0.9]}\n",
    "\n",
    "Adaboost_model_clf = GridSearchCV(AdaBoostClassifier(\n",
    "            DecisionTreeClassifier(max_depth=2)), param_grid, n_jobs=-1)"
   ]
  },
  {
   "cell_type": "code",
   "execution_count": 219,
   "metadata": {},
   "outputs": [
    {
     "name": "stdout",
     "output_type": "stream",
     "text": [
      "CPU times: user 5.63 s, sys: 55.7 ms, total: 5.69 s\n",
      "Wall time: 36.7 s\n"
     ]
    },
    {
     "data": {
      "text/plain": [
       "GridSearchCV(cv='warn', error_score='raise-deprecating',\n",
       "             estimator=AdaBoostClassifier(algorithm='SAMME.R',\n",
       "                                          base_estimator=DecisionTreeClassifier(class_weight=None,\n",
       "                                                                                criterion='gini',\n",
       "                                                                                max_depth=2,\n",
       "                                                                                max_features=None,\n",
       "                                                                                max_leaf_nodes=None,\n",
       "                                                                                min_impurity_decrease=0.0,\n",
       "                                                                                min_impurity_split=None,\n",
       "                                                                                min_samples_leaf=1,\n",
       "                                                                                min_samples_split=2,\n",
       "                                                                                min_weight_fraction_leaf=0.0,\n",
       "                                                                                presort=False,\n",
       "                                                                                random_state=None,\n",
       "                                                                                splitter='best'),\n",
       "                                          learning_rate=1.0, n_estimators=50,\n",
       "                                          random_state=None),\n",
       "             iid='warn', n_jobs=-1,\n",
       "             param_grid={'learning_rate': [0.1, 0.5, 0.9],\n",
       "                         'n_estimators': [100, 150, 200]},\n",
       "             pre_dispatch='2*n_jobs', refit=True, return_train_score=False,\n",
       "             scoring=None, verbose=0)"
      ]
     },
     "execution_count": 219,
     "metadata": {},
     "output_type": "execute_result"
    }
   ],
   "source": [
    "%time Adaboost_model_clf.fit(X_train, y_train)"
   ]
  },
  {
   "cell_type": "code",
   "execution_count": 220,
   "metadata": {},
   "outputs": [
    {
     "name": "stdout",
     "output_type": "stream",
     "text": [
      "0.855 {'learning_rate': 0.1, 'n_estimators': 150}\n"
     ]
    }
   ],
   "source": [
    "best_ada_model = Adaboost_model_clf.best_estimator_\n",
    "print (Adaboost_model_clf.best_score_, Adaboost_model_clf.best_params_) "
   ]
  },
  {
   "cell_type": "code",
   "execution_count": 221,
   "metadata": {},
   "outputs": [],
   "source": [
    "y_pred_test = best_ada_model.predict(X_test)"
   ]
  },
  {
   "cell_type": "code",
   "execution_count": 222,
   "metadata": {},
   "outputs": [
    {
     "name": "stdout",
     "output_type": "stream",
     "text": [
      "0.8557151780137414\n"
     ]
    }
   ],
   "source": [
    "print(accuracy_score(y_test,y_pred_test))"
   ]
  },
  {
   "cell_type": "code",
   "execution_count": 223,
   "metadata": {},
   "outputs": [
    {
     "name": "stdout",
     "output_type": "stream",
     "text": [
      "[[230 110  16]\n",
      " [ 52 652  30]\n",
      " [ 10  13 488]]\n"
     ]
    }
   ],
   "source": [
    "print(confusion_matrix(y_test, y_pred_test))"
   ]
  },
  {
   "cell_type": "markdown",
   "metadata": {},
   "source": [
    "## Build Gradient Boosting Classifier\n",
    "\n",
    "<img src=\"img/grad_1.png\">\n",
    "<img src=\"img/grad_2.png\">\n",
    "<img src=\"img/grad_3.png\">"
   ]
  },
  {
   "cell_type": "markdown",
   "metadata": {},
   "source": [
    "Gradient boosting is a type of boosting. \n",
    "\n",
    "The key idea behind gradient boosting is to set the target outcomes for this next model in order to minimize the error. The target outcome for each case in the data set depends on how much a change in that case’s prediction impacts the overall prediction error.\n",
    "\n",
    "If, for case X(i), a small change in the prediction causes a large drop in error, then the next target outcome is a high value. Predictions from the new model that are close to its targets will reduce the error.\n",
    "\n",
    "If, for case X(j), a small change in the prediction causes no change in error, then the next target outcome is zero because changing this prediction does not decrease the error.\n",
    "\n",
    "The name gradient boosting arises because of setting target outcomes based on the gradient of the error with respect to the prediction of each case. Each new model takes a step in the direction that minimizes prediction error, in the space of possible predictions for each training case.\n",
    "\n",
    "1. Initialize the outcome\n",
    "2. Iterate from 1 to total number of trees\n",
    "  <br>2.1 Update the weights for targets based on previous run (higher for the ones mis-classified)\n",
    "  <br>2.2 Fit the model on selected subsample of data\n",
    "  <br>2.3 Make predictions on the full set of observations\n",
    "  <br>2.4 Update the output with current results taking into account the learning rate\n",
    "3. Return the final output."
   ]
  },
  {
   "cell_type": "markdown",
   "metadata": {},
   "source": [
    "The most important parameters are learning_rate, n_estimators and subsample\n",
    "- **learning_rate**\n",
    "    -  This determines the impact of each tree on the final outcome (step 2.4). GBM works by starting with an initial estimate which is updated using the output of each tree. The learning parameter controls the magnitude of this change in the estimates.\n",
    "    -  Lower values are generally preferred as they make the model robust to the specific characteristics of tree and thus allowing it to generalize well.\n",
    "    -  Lower values would require higher number of trees to model all the relations and will be computationally expensive.\n",
    "- **n_estimators**\n",
    "    -  The number of sequential trees to be modeled (step 2)\n",
    "    -  Though GBM is fairly robust at higher number of trees but it can still overfit at a point. Hence, this should be tuned using CV for a particular learning rate.\n",
    "- **subsample**\n",
    "    -  The fraction of observations to be selected for each tree. Selection is done by random sampling.\n",
    "    -  Values slightly less than 1 make the model robust by reducing the variance.\n",
    "    -  Typical values ~0.8 generally work fine but can be fine-tuned further."
   ]
  },
  {
   "cell_type": "code",
   "execution_count": 224,
   "metadata": {},
   "outputs": [],
   "source": [
    "GBM_model = GradientBoostingClassifier(n_estimators=50,\n",
    "                                       learning_rate=0.3,\n",
    "                                       subsample=0.8)"
   ]
  },
  {
   "cell_type": "code",
   "execution_count": 225,
   "metadata": {},
   "outputs": [
    {
     "name": "stdout",
     "output_type": "stream",
     "text": [
      "CPU times: user 6.99 s, sys: 116 ms, total: 7.1 s\n",
      "Wall time: 2.49 s\n"
     ]
    },
    {
     "data": {
      "text/plain": [
       "GradientBoostingClassifier(criterion='friedman_mse', init=None,\n",
       "                           learning_rate=0.3, loss='deviance', max_depth=3,\n",
       "                           max_features=None, max_leaf_nodes=None,\n",
       "                           min_impurity_decrease=0.0, min_impurity_split=None,\n",
       "                           min_samples_leaf=1, min_samples_split=2,\n",
       "                           min_weight_fraction_leaf=0.0, n_estimators=50,\n",
       "                           n_iter_no_change=None, presort='auto',\n",
       "                           random_state=None, subsample=0.8, tol=0.0001,\n",
       "                           validation_fraction=0.1, verbose=0,\n",
       "                           warm_start=False)"
      ]
     },
     "execution_count": 225,
     "metadata": {},
     "output_type": "execute_result"
    }
   ],
   "source": [
    "%time GBM_model.fit(X=X_train, y=y_train)"
   ]
  },
  {
   "cell_type": "code",
   "execution_count": 226,
   "metadata": {},
   "outputs": [],
   "source": [
    "y_pred = GBM_model.predict(X_test)"
   ]
  },
  {
   "cell_type": "code",
   "execution_count": 227,
   "metadata": {},
   "outputs": [
    {
     "name": "stdout",
     "output_type": "stream",
     "text": [
      "0.8663335415365396\n",
      "              precision    recall  f1-score   support\n",
      "\n",
      "          FE     0.7593    0.7444    0.7518       356\n",
      "          UE     0.8788    0.8597    0.8691       734\n",
      "           W     0.9195    0.9609    0.9397       511\n",
      "\n",
      "    accuracy                         0.8663      1601\n",
      "   macro avg     0.8525    0.8550    0.8535      1601\n",
      "weighted avg     0.8652    0.8663    0.8656      1601\n",
      "\n"
     ]
    }
   ],
   "source": [
    "print(accuracy_score(y_test,y_pred))\n",
    "print(classification_report(y_test,y_pred,digits=4))"
   ]
  },
  {
   "cell_type": "code",
   "execution_count": 228,
   "metadata": {},
   "outputs": [],
   "source": [
    "# Model in use\n",
    "GBM = GradientBoostingClassifier() \n",
    " \n",
    "# Use a grid over parameters of interest\n",
    "param_grid = { \n",
    "           \"n_estimators\" : [100,150],\n",
    "           \"max_depth\" : [5, 10],\n",
    "           \"learning_rate\" : [0.1,0.2]}\n",
    " \n",
    "CV_GBM = GridSearchCV(estimator=GBM, param_grid=param_grid, cv= 5)"
   ]
  },
  {
   "cell_type": "code",
   "execution_count": 229,
   "metadata": {},
   "outputs": [
    {
     "name": "stdout",
     "output_type": "stream",
     "text": [
      "CPU times: user 21min 33s, sys: 11.8 s, total: 21min 45s\n",
      "Wall time: 10min 42s\n"
     ]
    },
    {
     "data": {
      "text/plain": [
       "GridSearchCV(cv=5, error_score='raise-deprecating',\n",
       "             estimator=GradientBoostingClassifier(criterion='friedman_mse',\n",
       "                                                  init=None, learning_rate=0.1,\n",
       "                                                  loss='deviance', max_depth=3,\n",
       "                                                  max_features=None,\n",
       "                                                  max_leaf_nodes=None,\n",
       "                                                  min_impurity_decrease=0.0,\n",
       "                                                  min_impurity_split=None,\n",
       "                                                  min_samples_leaf=1,\n",
       "                                                  min_samples_split=2,\n",
       "                                                  min_weight_fraction_leaf=0.0,\n",
       "                                                  n_estimators=100,\n",
       "                                                  n_iter_no_change=None,\n",
       "                                                  presort='auto',\n",
       "                                                  random_state=None,\n",
       "                                                  subsample=1.0, tol=0.0001,\n",
       "                                                  validation_fraction=0.1,\n",
       "                                                  verbose=0, warm_start=False),\n",
       "             iid='warn', n_jobs=None,\n",
       "             param_grid={'learning_rate': [0.1, 0.2], 'max_depth': [5, 10],\n",
       "                         'n_estimators': [100, 150]},\n",
       "             pre_dispatch='2*n_jobs', refit=True, return_train_score=False,\n",
       "             scoring=None, verbose=0)"
      ]
     },
     "execution_count": 229,
     "metadata": {},
     "output_type": "execute_result"
    }
   ],
   "source": [
    "%time CV_GBM.fit(X=X_train, y=y_train)"
   ]
  },
  {
   "cell_type": "code",
   "execution_count": 230,
   "metadata": {},
   "outputs": [
    {
     "name": "stdout",
     "output_type": "stream",
     "text": [
      "0.87359375 {'learning_rate': 0.1, 'max_depth': 5, 'n_estimators': 150}\n"
     ]
    }
   ],
   "source": [
    "# Find best model\n",
    "best_gbm_model = CV_GBM.best_estimator_\n",
    "print (CV_GBM.best_score_, CV_GBM.best_params_)"
   ]
  },
  {
   "cell_type": "code",
   "execution_count": 231,
   "metadata": {},
   "outputs": [],
   "source": [
    "y_pred_test=best_gbm_model.predict(X_test)"
   ]
  },
  {
   "cell_type": "code",
   "execution_count": 232,
   "metadata": {},
   "outputs": [
    {
     "name": "stdout",
     "output_type": "stream",
     "text": [
      "0.8775765146783261\n"
     ]
    }
   ],
   "source": [
    "print(accuracy_score(y_test,y_pred_test))"
   ]
  },
  {
   "cell_type": "code",
   "execution_count": 233,
   "metadata": {},
   "outputs": [
    {
     "name": "stdout",
     "output_type": "stream",
     "text": [
      "[[273  72  11]\n",
      " [ 73 639  22]\n",
      " [  8  10 493]]\n"
     ]
    }
   ],
   "source": [
    "print(confusion_matrix(y_test, y_pred_test))"
   ]
  },
  {
   "cell_type": "markdown",
   "metadata": {},
   "source": [
    "### Build XGBOOST Classifier\n",
    "XGBoost (eXtreme Gradient Boosting) is an advanced implementation of gradient boosting algorithm.\n",
    "\n",
    "<img src=\"img/xgboost.png\" >\n",
    "\n",
    "#### The XGBoost Advantages\n",
    "-  Regularization:\n",
    "    -  Standard GBM implementation has no regularization like XGBoost, therefore it also helps to reduce overfitting.\n",
    "    -  In fact, XGBoost is also known as ‘regularized boosting‘ technique.\n",
    "-  Parallel Processing:\n",
    "    -  XGBoost implements parallel processing and is blazingly faster as compared to GBM.\n",
    "    -  Boosting is sequential process that each tree can be built only after the previous one, and it  can be parallelized with making a tree using all cores. Refer. http://zhanpengfang.github.io/418home.html\n",
    "    \n",
    "    -  XGBoost also supports implementation on Hadoop.\n",
    "-  High Flexibility\n",
    "    -  XGBoost allow users to define custom optimization objectives and evaluation criteria.\n",
    "    -  This adds a whole new dimension to the model and there is no limit to what we can do.\n",
    "-  Handling Missing Values\n",
    "    -  XGBoost has an in-built routine to handle missing values.\n",
    "    -  User is required to supply a different value than other observations and pass that as a parameter. XGBoost tries different things as it encounters a missing value on each node and learns which path to take for missing values in future.\n",
    "-  Tree Pruning:\n",
    "    -  A GBM would stop splitting a node when it encounters a negative loss in the split. Thus it is more of a greedy algorithm.\n",
    "    -  XGBoost on the other hand make splits upto the max_depth specified and then start pruning the tree backwards and remove splits beyond which there is no positive gain.\n",
    "    -  Another advantage is that sometimes a split of negative loss say -2 may be followed by a split of positive loss +10. GBM would stop as it encounters -2. But XGBoost will go deeper and it will see a combined effect of +8 of the split and keep both.\n",
    "-  Built-in Cross-Validation\n",
    "    -  XGBoost allows user to run a cross-validation at each iteration of the boosting process and thus it is easy to get the exact optimum number of boosting iterations in a single run.\n",
    "    -  This is unlike GBM where we have to run a grid-search and only a limited values can be tested.\n",
    "-  Continue on Existing Model\n",
    "    -  User can start training an XGBoost model from its last iteration of previous run. This can be of significant advantage in certain specific applications.\n",
    "    -  GBM implementation of sklearn also has this feature so they are even on this point."
   ]
  },
  {
   "cell_type": "markdown",
   "metadata": {},
   "source": [
    "#### Create XGBoost Classifier\n",
    "\n",
    "There are different hyperparameters that we can tune and the parametres are different from baselearner to baselearner. \n",
    "<br>In tree based learners, which are the most common ones in xgboost applications, the following are the most commonly tuned hyperparameters:\n",
    "\n",
    "-  **learning rate/eta:** governs how quickly the model fits the residual error using additional base learners. If it is a smaller learning rate, it will need more boosting rounds, hence more time, to achieve the same reduction in residual error as one with larger learning rate. Typically, it lies between 0.01 – 0.3\n",
    "-  **max_depth:** max depth per tree. This controls how deep our tree can grow. The Larger the depth, more complex the model will be and higher chances of overfitting. Larger data sets require deep trees to learn the rules from data. Default = 6.\n",
    "-  **subsample:** % samples used per tree. This is the fraction of the total training set that can be used in any boosting round. Low value may lead to underfitting issues. A very high value can cause over-fitting problems.\n",
    "-  **colsample_bytree:** % features used per tree. This is the fraction of the number of columns that we can use in any boosting round. A smaller value is an additional regularization and a larger value may be cause overfitting issues.\n",
    "-  **n_estimators:** number of estimators (base learners). This is the number of boosting rounds.\n",
    "<br><br>The three hyperparameters below are regularization hyperparameters.\n",
    "-  **gamma:** min loss reduction to create new tree split. default = 0 means no regularization.\n",
    "-  **lambda:** L2 reg on leaf weights. Equivalent to Ridge regression.\n",
    "-  **alpha:** L1 reg on leaf weights. Equivalent to Lasso regression.\n",
    "\n",
    "\n",
    "Refer: https://xgboost.readthedocs.io/en/latest/python/python_api.html"
   ]
  },
  {
   "cell_type": "code",
   "execution_count": 234,
   "metadata": {},
   "outputs": [
    {
     "name": "stdout",
     "output_type": "stream",
     "text": [
      "CPU times: user 14.2 s, sys: 3.97 ms, total: 14.2 s\n",
      "Wall time: 14.4 s\n",
      "0.8694565896314803\n"
     ]
    }
   ],
   "source": [
    "XGB_model = XGBClassifier(n_estimators=500, gamma=0.5,learning_rate=0.1)\n",
    "%time XGB_model.fit(X_train, y_train)\n",
    "y_pred = XGB_model.predict(X_test)\n",
    "print(accuracy_score(y_test,y_pred))"
   ]
  },
  {
   "cell_type": "code",
   "execution_count": 235,
   "metadata": {},
   "outputs": [],
   "source": [
    "XGB = XGBClassifier(n_jobs=-1)\n",
    " \n",
    "# Use a grid over parameters of interest\n",
    "param_grid = {\n",
    "     'colsample_bytree': np.linspace(0.5, 0.9, 2),\n",
    "     'n_estimators':[100],\n",
    "     'max_depth': [10, 15]\n",
    "}\n",
    "\n",
    " \n",
    "CV_XGB = GridSearchCV(estimator=XGB, param_grid=param_grid, cv= 10)"
   ]
  },
  {
   "cell_type": "code",
   "execution_count": 236,
   "metadata": {},
   "outputs": [
    {
     "name": "stdout",
     "output_type": "stream",
     "text": [
      "CPU times: user 5min 31s, sys: 231 ms, total: 5min 31s\n",
      "Wall time: 5min 31s\n"
     ]
    },
    {
     "data": {
      "text/plain": [
       "GridSearchCV(cv=10, error_score='raise-deprecating',\n",
       "             estimator=XGBClassifier(base_score=0.5, booster='gbtree',\n",
       "                                     colsample_bylevel=1, colsample_bytree=1,\n",
       "                                     gamma=0, learning_rate=0.1,\n",
       "                                     max_delta_step=0, max_depth=3,\n",
       "                                     min_child_weight=1, missing=None,\n",
       "                                     n_estimators=100, n_jobs=-1, nthread=None,\n",
       "                                     objective='binary:logistic',\n",
       "                                     random_state=0, reg_alpha=0, reg_lambda=1,\n",
       "                                     scale_pos_weight=1, seed=None, silent=True,\n",
       "                                     subsample=1),\n",
       "             iid='warn', n_jobs=None,\n",
       "             param_grid={'colsample_bytree': array([0.5, 0.9]),\n",
       "                         'max_depth': [10, 15], 'n_estimators': [100]},\n",
       "             pre_dispatch='2*n_jobs', refit=True, return_train_score=False,\n",
       "             scoring=None, verbose=0)"
      ]
     },
     "execution_count": 236,
     "metadata": {},
     "output_type": "execute_result"
    }
   ],
   "source": [
    "%time CV_XGB.fit(X = X_train, y=y_train)"
   ]
  },
  {
   "cell_type": "code",
   "execution_count": 237,
   "metadata": {},
   "outputs": [
    {
     "name": "stdout",
     "output_type": "stream",
     "text": [
      "0.87546875 {'colsample_bytree': 0.9, 'max_depth': 10, 'n_estimators': 100}\n"
     ]
    }
   ],
   "source": [
    "# Find best model\n",
    "best_xgb_model = CV_XGB.best_estimator_\n",
    "print (CV_XGB.best_score_, CV_XGB.best_params_)"
   ]
  },
  {
   "cell_type": "code",
   "execution_count": 238,
   "metadata": {
    "scrolled": true
   },
   "outputs": [],
   "source": [
    "y_pred_test=best_xgb_model.predict(X_test)"
   ]
  },
  {
   "cell_type": "code",
   "execution_count": 239,
   "metadata": {},
   "outputs": [
    {
     "name": "stdout",
     "output_type": "stream",
     "text": [
      "0.8750780762023735\n"
     ]
    }
   ],
   "source": [
    "print(accuracy_score(y_test,y_pred_test))"
   ]
  },
  {
   "cell_type": "code",
   "execution_count": 240,
   "metadata": {},
   "outputs": [
    {
     "name": "stdout",
     "output_type": "stream",
     "text": [
      "[[267  76  13]\n",
      " [ 74 639  21]\n",
      " [  4  12 495]]\n"
     ]
    }
   ],
   "source": [
    "print(confusion_matrix(y_test, y_pred_test))"
   ]
  },
  {
   "cell_type": "code",
   "execution_count": null,
   "metadata": {},
   "outputs": [],
   "source": []
  }
 ],
 "metadata": {
  "kernelspec": {
   "display_name": "Python 3",
   "language": "python",
   "name": "python3"
  },
  "language_info": {
   "codemirror_mode": {
    "name": "ipython",
    "version": 3
   },
   "file_extension": ".py",
   "mimetype": "text/x-python",
   "name": "python",
   "nbconvert_exporter": "python",
   "pygments_lexer": "ipython3",
   "version": "3.6.4"
  },
  "toc": {
   "base_numbering": 1,
   "nav_menu": {},
   "number_sections": true,
   "sideBar": true,
   "skip_h1_title": false,
   "title_cell": "Table of Contents",
   "title_sidebar": "Contents",
   "toc_cell": false,
   "toc_position": {},
   "toc_section_display": true,
   "toc_window_display": false
  },
  "varInspector": {
   "cols": {
    "lenName": 16,
    "lenType": 16,
    "lenVar": 40
   },
   "kernels_config": {
    "python": {
     "delete_cmd_postfix": "",
     "delete_cmd_prefix": "del ",
     "library": "var_list.py",
     "varRefreshCmd": "print(var_dic_list())"
    },
    "r": {
     "delete_cmd_postfix": ") ",
     "delete_cmd_prefix": "rm(",
     "library": "var_list.r",
     "varRefreshCmd": "cat(var_dic_list()) "
    }
   },
   "types_to_exclude": [
    "module",
    "function",
    "builtin_function_or_method",
    "instance",
    "_Feature"
   ],
   "window_display": false
  }
 },
 "nbformat": 4,
 "nbformat_minor": 2
}
