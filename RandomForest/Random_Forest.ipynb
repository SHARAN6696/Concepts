{
 "cells": [
  {
   "cell_type": "markdown",
   "metadata": {},
   "source": [
    "#### Problem Description :\n",
    "\n",
    "* A relatively young bank is growing rapidly in terms of overall customer acquisition. Majority of these are Liability customers with varying sizes of relationship with the bank. The customer base of Asset customers is quite small, and the bank wants to grow this base rapidly to bring in more loan business. \n",
    "\n",
    "* Specifically, it want to explore ways of converting its liability customers to Personal Loan customers.\n",
    "\n",
    "* A campaign the bank ran for liability customers last year showed a healthy conversion rate of over 9% success. This has encouraged the Retail Marketing department to devise smarter campaigns with better target marketing.\n",
    "\n",
    "#### Anlaytics Objectives :\n",
    "\t\n",
    "\t\n",
    "* 1)\tWhile designing a new campaign, can we model the previous campaign's customer behavior to \n",
    "\tanalyze what combination of parameters make a customer more likely to \n",
    "\taccept a personal loan?\n",
    "\t\n",
    "* 2)\tThere are several special products / facilities the bank offers like CD and security accounts, \n",
    "\tonline services, credit cards, etc. Can we spot any association among these\n",
    "\tfor finding cross-selling opportunities?\n",
    "\n",
    "#### Data Set Description :\n",
    "\n",
    "* ID:\tCustomer ID\t\t\t\n",
    "* Age:\tCustomer's age in completed years\t\t\t\n",
    "* Experience:\t# of years of professional experience\t\t\t\n",
    "* Income:\tAnnual income of the customer in thousands of Dollars\t\t\t\n",
    "* ZIPCode:\tHome Address ZIP code.\t\t\tDo not use ZIP code\n",
    "* Family:\tFamily size of the customer\t\t\t\n",
    "* CCAvg:\tAvg. spending on credit cards per month in thousands of Dollars\t\t\n",
    "* Education:\tEducation Level. 1: Undergrad; 2: Graduate; 3: Advanced/Professional\t\t\t\n",
    "* Mortgage:\tValue of house mortgage if any. (thousands of Dollars)\t\t\t\n",
    "* **PersonalLoan:\tDid this customer accept the personal loan offered in the last campaign?**\t\t\t\n",
    "* SecuritiesAccount:\tDoes the customer have a securities account with the bank?\t\t\t\n",
    "* CDAccount:\tDoes the customer have a certificate of deposit (CD) account with the bank?\t\t\t\n",
    "* Online:\tDoes the customer use internet banking facilities?\t\t\t\n",
    "* CreditCard:\tDoes the customer use a credit card issued by UniversalBank?\t\t\t\n",
    "\n",
    "#### Note:\n",
    "* While reading the data set  replace the '?',',' as NAs\n",
    "\n",
    "#### Experiment :\n",
    "* Building a Random Forest to predict whether a person will take a personal loan or not\n",
    "\n"
   ]
  },
  {
   "cell_type": "code",
   "execution_count": 31,
   "metadata": {},
   "outputs": [],
   "source": [
    "# Loading required libraries\n",
    "\n",
    "import os\n",
    "import pandas as pd\n",
    "import numpy as np\n",
    "\n",
    "from sklearn.impute import SimpleImputer\n",
    "from sklearn.preprocessing import StandardScaler"
   ]
  },
  {
   "cell_type": "code",
   "execution_count": 32,
   "metadata": {},
   "outputs": [],
   "source": [
    "import warnings\n",
    "warnings.filterwarnings('ignore')"
   ]
  },
  {
   "cell_type": "markdown",
   "metadata": {},
   "source": [
    "####  Check the dimensions and type"
   ]
  },
  {
   "cell_type": "code",
   "execution_count": 33,
   "metadata": {},
   "outputs": [
    {
     "name": "stdout",
     "output_type": "stream",
     "text": [
      "The number of rows in the bank data set = 5000\n",
      "The number of columns in the bank data set = 14\n"
     ]
    }
   ],
   "source": [
    "bank=pd.read_csv(\"UniversalBank.csv\",na_values=[\"?\",\",\"])\n",
    "print(\"The number of rows in the bank data set =\", )\n",
    "print(\"The number of columns in the bank data set =\", )"
   ]
  },
  {
   "cell_type": "markdown",
   "metadata": {},
   "source": [
    "#### Print column names and check the datatypes of columns"
   ]
  },
  {
   "cell_type": "code",
   "execution_count": 34,
   "metadata": {},
   "outputs": [
    {
     "name": "stdout",
     "output_type": "stream",
     "text": [
      "The columns in the data set are : \n",
      "\n"
     ]
    },
    {
     "data": {
      "text/plain": [
       "['ID',\n",
       " 'Age',\n",
       " 'Experience',\n",
       " 'Income',\n",
       " 'ZIPCode',\n",
       " 'Family',\n",
       " 'CCAvg',\n",
       " 'Education',\n",
       " 'Mortgage',\n",
       " 'PersonalLoan',\n",
       " 'SecuritiesAccount',\n",
       " 'CDAccount',\n",
       " 'Online',\n",
       " 'CreditCard']"
      ]
     },
     "execution_count": 34,
     "metadata": {},
     "output_type": "execute_result"
    }
   ],
   "source": [
    "print(\"The columns in the data set are : \\n\")\n"
   ]
  },
  {
   "cell_type": "code",
   "execution_count": 35,
   "metadata": {
    "scrolled": true
   },
   "outputs": [
    {
     "name": "stdout",
     "output_type": "stream",
     "text": [
      "The datatypes of the columns are :\n",
      " \n"
     ]
    },
    {
     "data": {
      "text/plain": [
       "ID                     int64\n",
       "Age                  float64\n",
       "Experience           float64\n",
       "Income               float64\n",
       "ZIPCode                int64\n",
       "Family                 int64\n",
       "CCAvg                float64\n",
       "Education              int64\n",
       "Mortgage               int64\n",
       "PersonalLoan           int64\n",
       "SecuritiesAccount      int64\n",
       "CDAccount              int64\n",
       "Online                 int64\n",
       "CreditCard             int64\n",
       "dtype: object"
      ]
     },
     "execution_count": 35,
     "metadata": {},
     "output_type": "execute_result"
    }
   ],
   "source": [
    "print(\"The datatypes of the columns are :\\n \")\n"
   ]
  },
  {
   "cell_type": "markdown",
   "metadata": {},
   "source": [
    "#### Check the top 10 rows to glance the dataset "
   ]
  },
  {
   "cell_type": "code",
   "execution_count": 36,
   "metadata": {},
   "outputs": [
    {
     "data": {
      "text/html": [
       "<div>\n",
       "<style scoped>\n",
       "    .dataframe tbody tr th:only-of-type {\n",
       "        vertical-align: middle;\n",
       "    }\n",
       "\n",
       "    .dataframe tbody tr th {\n",
       "        vertical-align: top;\n",
       "    }\n",
       "\n",
       "    .dataframe thead th {\n",
       "        text-align: right;\n",
       "    }\n",
       "</style>\n",
       "<table border=\"1\" class=\"dataframe\">\n",
       "  <thead>\n",
       "    <tr style=\"text-align: right;\">\n",
       "      <th></th>\n",
       "      <th>ID</th>\n",
       "      <th>Age</th>\n",
       "      <th>Experience</th>\n",
       "      <th>Income</th>\n",
       "      <th>ZIPCode</th>\n",
       "      <th>Family</th>\n",
       "      <th>CCAvg</th>\n",
       "      <th>Education</th>\n",
       "      <th>Mortgage</th>\n",
       "      <th>PersonalLoan</th>\n",
       "      <th>SecuritiesAccount</th>\n",
       "      <th>CDAccount</th>\n",
       "      <th>Online</th>\n",
       "      <th>CreditCard</th>\n",
       "    </tr>\n",
       "  </thead>\n",
       "  <tbody>\n",
       "    <tr>\n",
       "      <th>0</th>\n",
       "      <td>1</td>\n",
       "      <td>25.0</td>\n",
       "      <td>1.0</td>\n",
       "      <td>49.0</td>\n",
       "      <td>91107</td>\n",
       "      <td>4</td>\n",
       "      <td>1.6</td>\n",
       "      <td>1</td>\n",
       "      <td>0</td>\n",
       "      <td>0</td>\n",
       "      <td>1</td>\n",
       "      <td>0</td>\n",
       "      <td>0</td>\n",
       "      <td>0</td>\n",
       "    </tr>\n",
       "    <tr>\n",
       "      <th>1</th>\n",
       "      <td>2</td>\n",
       "      <td>45.0</td>\n",
       "      <td>19.0</td>\n",
       "      <td>34.0</td>\n",
       "      <td>90089</td>\n",
       "      <td>3</td>\n",
       "      <td>1.5</td>\n",
       "      <td>1</td>\n",
       "      <td>0</td>\n",
       "      <td>0</td>\n",
       "      <td>1</td>\n",
       "      <td>0</td>\n",
       "      <td>0</td>\n",
       "      <td>0</td>\n",
       "    </tr>\n",
       "    <tr>\n",
       "      <th>2</th>\n",
       "      <td>3</td>\n",
       "      <td>39.0</td>\n",
       "      <td>15.0</td>\n",
       "      <td>11.0</td>\n",
       "      <td>94720</td>\n",
       "      <td>1</td>\n",
       "      <td>1.0</td>\n",
       "      <td>1</td>\n",
       "      <td>0</td>\n",
       "      <td>0</td>\n",
       "      <td>0</td>\n",
       "      <td>0</td>\n",
       "      <td>0</td>\n",
       "      <td>0</td>\n",
       "    </tr>\n",
       "    <tr>\n",
       "      <th>3</th>\n",
       "      <td>4</td>\n",
       "      <td>35.0</td>\n",
       "      <td>9.0</td>\n",
       "      <td>100.0</td>\n",
       "      <td>94112</td>\n",
       "      <td>1</td>\n",
       "      <td>2.7</td>\n",
       "      <td>2</td>\n",
       "      <td>0</td>\n",
       "      <td>0</td>\n",
       "      <td>0</td>\n",
       "      <td>0</td>\n",
       "      <td>0</td>\n",
       "      <td>0</td>\n",
       "    </tr>\n",
       "    <tr>\n",
       "      <th>4</th>\n",
       "      <td>5</td>\n",
       "      <td>35.0</td>\n",
       "      <td>8.0</td>\n",
       "      <td>45.0</td>\n",
       "      <td>91330</td>\n",
       "      <td>4</td>\n",
       "      <td>1.0</td>\n",
       "      <td>2</td>\n",
       "      <td>0</td>\n",
       "      <td>0</td>\n",
       "      <td>0</td>\n",
       "      <td>0</td>\n",
       "      <td>0</td>\n",
       "      <td>1</td>\n",
       "    </tr>\n",
       "    <tr>\n",
       "      <th>5</th>\n",
       "      <td>6</td>\n",
       "      <td>37.0</td>\n",
       "      <td>13.0</td>\n",
       "      <td>29.0</td>\n",
       "      <td>92121</td>\n",
       "      <td>4</td>\n",
       "      <td>0.4</td>\n",
       "      <td>2</td>\n",
       "      <td>155</td>\n",
       "      <td>0</td>\n",
       "      <td>0</td>\n",
       "      <td>0</td>\n",
       "      <td>1</td>\n",
       "      <td>0</td>\n",
       "    </tr>\n",
       "    <tr>\n",
       "      <th>6</th>\n",
       "      <td>7</td>\n",
       "      <td>53.0</td>\n",
       "      <td>27.0</td>\n",
       "      <td>72.0</td>\n",
       "      <td>91711</td>\n",
       "      <td>2</td>\n",
       "      <td>1.5</td>\n",
       "      <td>2</td>\n",
       "      <td>0</td>\n",
       "      <td>0</td>\n",
       "      <td>0</td>\n",
       "      <td>0</td>\n",
       "      <td>1</td>\n",
       "      <td>0</td>\n",
       "    </tr>\n",
       "    <tr>\n",
       "      <th>7</th>\n",
       "      <td>8</td>\n",
       "      <td>50.0</td>\n",
       "      <td>24.0</td>\n",
       "      <td>22.0</td>\n",
       "      <td>93943</td>\n",
       "      <td>1</td>\n",
       "      <td>0.3</td>\n",
       "      <td>3</td>\n",
       "      <td>0</td>\n",
       "      <td>0</td>\n",
       "      <td>0</td>\n",
       "      <td>0</td>\n",
       "      <td>0</td>\n",
       "      <td>1</td>\n",
       "    </tr>\n",
       "    <tr>\n",
       "      <th>8</th>\n",
       "      <td>9</td>\n",
       "      <td>35.0</td>\n",
       "      <td>10.0</td>\n",
       "      <td>81.0</td>\n",
       "      <td>90089</td>\n",
       "      <td>3</td>\n",
       "      <td>0.6</td>\n",
       "      <td>2</td>\n",
       "      <td>104</td>\n",
       "      <td>0</td>\n",
       "      <td>0</td>\n",
       "      <td>0</td>\n",
       "      <td>1</td>\n",
       "      <td>0</td>\n",
       "    </tr>\n",
       "    <tr>\n",
       "      <th>9</th>\n",
       "      <td>10</td>\n",
       "      <td>NaN</td>\n",
       "      <td>9.0</td>\n",
       "      <td>180.0</td>\n",
       "      <td>93023</td>\n",
       "      <td>1</td>\n",
       "      <td>8.9</td>\n",
       "      <td>3</td>\n",
       "      <td>0</td>\n",
       "      <td>1</td>\n",
       "      <td>0</td>\n",
       "      <td>0</td>\n",
       "      <td>0</td>\n",
       "      <td>0</td>\n",
       "    </tr>\n",
       "  </tbody>\n",
       "</table>\n",
       "</div>"
      ],
      "text/plain": [
       "   ID   Age  Experience  Income  ZIPCode  Family  CCAvg  Education  Mortgage  \\\n",
       "0   1  25.0         1.0    49.0    91107       4    1.6          1         0   \n",
       "1   2  45.0        19.0    34.0    90089       3    1.5          1         0   \n",
       "2   3  39.0        15.0    11.0    94720       1    1.0          1         0   \n",
       "3   4  35.0         9.0   100.0    94112       1    2.7          2         0   \n",
       "4   5  35.0         8.0    45.0    91330       4    1.0          2         0   \n",
       "5   6  37.0        13.0    29.0    92121       4    0.4          2       155   \n",
       "6   7  53.0        27.0    72.0    91711       2    1.5          2         0   \n",
       "7   8  50.0        24.0    22.0    93943       1    0.3          3         0   \n",
       "8   9  35.0        10.0    81.0    90089       3    0.6          2       104   \n",
       "9  10   NaN         9.0   180.0    93023       1    8.9          3         0   \n",
       "\n",
       "   PersonalLoan  SecuritiesAccount  CDAccount  Online  CreditCard  \n",
       "0             0                  1          0       0           0  \n",
       "1             0                  1          0       0           0  \n",
       "2             0                  0          0       0           0  \n",
       "3             0                  0          0       0           0  \n",
       "4             0                  0          0       0           1  \n",
       "5             0                  0          0       1           0  \n",
       "6             0                  0          0       1           0  \n",
       "7             0                  0          0       0           1  \n",
       "8             0                  0          0       1           0  \n",
       "9             1                  0          0       0           0  "
      ]
     },
     "execution_count": 36,
     "metadata": {},
     "output_type": "execute_result"
    }
   ],
   "source": []
  },
  {
   "cell_type": "markdown",
   "metadata": {},
   "source": [
    "#### Check the summary of the dataframe"
   ]
  },
  {
   "cell_type": "code",
   "execution_count": 37,
   "metadata": {},
   "outputs": [
    {
     "data": {
      "text/html": [
       "<div>\n",
       "<style scoped>\n",
       "    .dataframe tbody tr th:only-of-type {\n",
       "        vertical-align: middle;\n",
       "    }\n",
       "\n",
       "    .dataframe tbody tr th {\n",
       "        vertical-align: top;\n",
       "    }\n",
       "\n",
       "    .dataframe thead th {\n",
       "        text-align: right;\n",
       "    }\n",
       "</style>\n",
       "<table border=\"1\" class=\"dataframe\">\n",
       "  <thead>\n",
       "    <tr style=\"text-align: right;\">\n",
       "      <th></th>\n",
       "      <th>ID</th>\n",
       "      <th>Age</th>\n",
       "      <th>Experience</th>\n",
       "      <th>Income</th>\n",
       "      <th>ZIPCode</th>\n",
       "      <th>Family</th>\n",
       "      <th>CCAvg</th>\n",
       "      <th>Education</th>\n",
       "      <th>Mortgage</th>\n",
       "      <th>PersonalLoan</th>\n",
       "      <th>SecuritiesAccount</th>\n",
       "      <th>CDAccount</th>\n",
       "      <th>Online</th>\n",
       "      <th>CreditCard</th>\n",
       "    </tr>\n",
       "  </thead>\n",
       "  <tbody>\n",
       "    <tr>\n",
       "      <th>count</th>\n",
       "      <td>5000.000000</td>\n",
       "      <td>4998.000000</td>\n",
       "      <td>4998.000000</td>\n",
       "      <td>4987.000000</td>\n",
       "      <td>5000.000000</td>\n",
       "      <td>5000.000000</td>\n",
       "      <td>5000.000000</td>\n",
       "      <td>5000.000000</td>\n",
       "      <td>5000.000000</td>\n",
       "      <td>5000.000000</td>\n",
       "      <td>5000.000000</td>\n",
       "      <td>5000.00000</td>\n",
       "      <td>5000.000000</td>\n",
       "      <td>5000.000000</td>\n",
       "    </tr>\n",
       "    <tr>\n",
       "      <th>mean</th>\n",
       "      <td>2500.500000</td>\n",
       "      <td>45.336335</td>\n",
       "      <td>20.108043</td>\n",
       "      <td>73.807098</td>\n",
       "      <td>93152.503000</td>\n",
       "      <td>2.396400</td>\n",
       "      <td>1.937938</td>\n",
       "      <td>1.881000</td>\n",
       "      <td>56.498800</td>\n",
       "      <td>0.096000</td>\n",
       "      <td>0.104400</td>\n",
       "      <td>0.06040</td>\n",
       "      <td>0.596800</td>\n",
       "      <td>0.294000</td>\n",
       "    </tr>\n",
       "    <tr>\n",
       "      <th>std</th>\n",
       "      <td>1443.520003</td>\n",
       "      <td>11.460241</td>\n",
       "      <td>11.468603</td>\n",
       "      <td>46.037325</td>\n",
       "      <td>2121.852197</td>\n",
       "      <td>1.147663</td>\n",
       "      <td>1.747659</td>\n",
       "      <td>0.839869</td>\n",
       "      <td>101.713802</td>\n",
       "      <td>0.294621</td>\n",
       "      <td>0.305809</td>\n",
       "      <td>0.23825</td>\n",
       "      <td>0.490589</td>\n",
       "      <td>0.455637</td>\n",
       "    </tr>\n",
       "    <tr>\n",
       "      <th>min</th>\n",
       "      <td>1.000000</td>\n",
       "      <td>23.000000</td>\n",
       "      <td>-3.000000</td>\n",
       "      <td>8.000000</td>\n",
       "      <td>9307.000000</td>\n",
       "      <td>1.000000</td>\n",
       "      <td>0.000000</td>\n",
       "      <td>1.000000</td>\n",
       "      <td>0.000000</td>\n",
       "      <td>0.000000</td>\n",
       "      <td>0.000000</td>\n",
       "      <td>0.00000</td>\n",
       "      <td>0.000000</td>\n",
       "      <td>0.000000</td>\n",
       "    </tr>\n",
       "    <tr>\n",
       "      <th>25%</th>\n",
       "      <td>1250.750000</td>\n",
       "      <td>35.000000</td>\n",
       "      <td>10.000000</td>\n",
       "      <td>39.000000</td>\n",
       "      <td>91911.000000</td>\n",
       "      <td>1.000000</td>\n",
       "      <td>0.700000</td>\n",
       "      <td>1.000000</td>\n",
       "      <td>0.000000</td>\n",
       "      <td>0.000000</td>\n",
       "      <td>0.000000</td>\n",
       "      <td>0.00000</td>\n",
       "      <td>0.000000</td>\n",
       "      <td>0.000000</td>\n",
       "    </tr>\n",
       "    <tr>\n",
       "      <th>50%</th>\n",
       "      <td>2500.500000</td>\n",
       "      <td>45.000000</td>\n",
       "      <td>20.000000</td>\n",
       "      <td>64.000000</td>\n",
       "      <td>93437.000000</td>\n",
       "      <td>2.000000</td>\n",
       "      <td>1.500000</td>\n",
       "      <td>2.000000</td>\n",
       "      <td>0.000000</td>\n",
       "      <td>0.000000</td>\n",
       "      <td>0.000000</td>\n",
       "      <td>0.00000</td>\n",
       "      <td>1.000000</td>\n",
       "      <td>0.000000</td>\n",
       "    </tr>\n",
       "    <tr>\n",
       "      <th>75%</th>\n",
       "      <td>3750.250000</td>\n",
       "      <td>55.000000</td>\n",
       "      <td>30.000000</td>\n",
       "      <td>98.000000</td>\n",
       "      <td>94608.000000</td>\n",
       "      <td>3.000000</td>\n",
       "      <td>2.500000</td>\n",
       "      <td>3.000000</td>\n",
       "      <td>101.000000</td>\n",
       "      <td>0.000000</td>\n",
       "      <td>0.000000</td>\n",
       "      <td>0.00000</td>\n",
       "      <td>1.000000</td>\n",
       "      <td>1.000000</td>\n",
       "    </tr>\n",
       "    <tr>\n",
       "      <th>max</th>\n",
       "      <td>5000.000000</td>\n",
       "      <td>67.000000</td>\n",
       "      <td>43.000000</td>\n",
       "      <td>224.000000</td>\n",
       "      <td>96651.000000</td>\n",
       "      <td>4.000000</td>\n",
       "      <td>10.000000</td>\n",
       "      <td>3.000000</td>\n",
       "      <td>635.000000</td>\n",
       "      <td>1.000000</td>\n",
       "      <td>1.000000</td>\n",
       "      <td>1.00000</td>\n",
       "      <td>1.000000</td>\n",
       "      <td>1.000000</td>\n",
       "    </tr>\n",
       "  </tbody>\n",
       "</table>\n",
       "</div>"
      ],
      "text/plain": [
       "                ID          Age   Experience       Income       ZIPCode  \\\n",
       "count  5000.000000  4998.000000  4998.000000  4987.000000   5000.000000   \n",
       "mean   2500.500000    45.336335    20.108043    73.807098  93152.503000   \n",
       "std    1443.520003    11.460241    11.468603    46.037325   2121.852197   \n",
       "min       1.000000    23.000000    -3.000000     8.000000   9307.000000   \n",
       "25%    1250.750000    35.000000    10.000000    39.000000  91911.000000   \n",
       "50%    2500.500000    45.000000    20.000000    64.000000  93437.000000   \n",
       "75%    3750.250000    55.000000    30.000000    98.000000  94608.000000   \n",
       "max    5000.000000    67.000000    43.000000   224.000000  96651.000000   \n",
       "\n",
       "            Family        CCAvg    Education     Mortgage  PersonalLoan  \\\n",
       "count  5000.000000  5000.000000  5000.000000  5000.000000   5000.000000   \n",
       "mean      2.396400     1.937938     1.881000    56.498800      0.096000   \n",
       "std       1.147663     1.747659     0.839869   101.713802      0.294621   \n",
       "min       1.000000     0.000000     1.000000     0.000000      0.000000   \n",
       "25%       1.000000     0.700000     1.000000     0.000000      0.000000   \n",
       "50%       2.000000     1.500000     2.000000     0.000000      0.000000   \n",
       "75%       3.000000     2.500000     3.000000   101.000000      0.000000   \n",
       "max       4.000000    10.000000     3.000000   635.000000      1.000000   \n",
       "\n",
       "       SecuritiesAccount   CDAccount       Online   CreditCard  \n",
       "count        5000.000000  5000.00000  5000.000000  5000.000000  \n",
       "mean            0.104400     0.06040     0.596800     0.294000  \n",
       "std             0.305809     0.23825     0.490589     0.455637  \n",
       "min             0.000000     0.00000     0.000000     0.000000  \n",
       "25%             0.000000     0.00000     0.000000     0.000000  \n",
       "50%             0.000000     0.00000     1.000000     0.000000  \n",
       "75%             0.000000     0.00000     1.000000     1.000000  \n",
       "max             1.000000     1.00000     1.000000     1.000000  "
      ]
     },
     "execution_count": 37,
     "metadata": {},
     "output_type": "execute_result"
    }
   ],
   "source": []
  },
  {
   "cell_type": "markdown",
   "metadata": {},
   "source": [
    "#### Check the unique levels in the target attribute Personal Loan and also check for the percentage distribution"
   ]
  },
  {
   "cell_type": "code",
   "execution_count": 38,
   "metadata": {},
   "outputs": [
    {
     "name": "stdout",
     "output_type": "stream",
     "text": [
      "0    4520\n",
      "1     480\n",
      "Name: PersonalLoan, dtype: int64\n"
     ]
    }
   ],
   "source": [
    "print()"
   ]
  },
  {
   "cell_type": "markdown",
   "metadata": {},
   "source": [
    "#### Check the number of unique ZIP Codes present in the dataset "
   ]
  },
  {
   "cell_type": "code",
   "execution_count": 39,
   "metadata": {},
   "outputs": [
    {
     "name": "stdout",
     "output_type": "stream",
     "text": [
      "The number of Unique ZIP Codes in the bank data set is 467\n",
      "\n",
      "\n",
      "94720    169\n",
      "94305    127\n",
      "95616    116\n",
      "90095     71\n",
      "93106     57\n",
      "        ... \n",
      "96145      1\n",
      "94970      1\n",
      "94598      1\n",
      "90068      1\n",
      "94087      1\n",
      "Name: ZIPCode, Length: 467, dtype: int64\n"
     ]
    }
   ],
   "source": [
    "print(\"The number of Unique ZIP Codes in the bank data set is\",bank['ZIPCode'].nunique())\n",
    "print(\"\\n\")\n",
    "print(bank['ZIPCode'].value_counts())"
   ]
  },
  {
   "cell_type": "markdown",
   "metadata": {},
   "source": [
    "#### Check the count of  family members in each level"
   ]
  },
  {
   "cell_type": "code",
   "execution_count": 40,
   "metadata": {},
   "outputs": [
    {
     "name": "stdout",
     "output_type": "stream",
     "text": [
      "The number of family members for each level in the bank data set:\n",
      "\n",
      "1    1472\n",
      "2    1296\n",
      "4    1222\n",
      "3    1010\n",
      "Name: Family, dtype: int64\n"
     ]
    }
   ],
   "source": [
    "print(\"The number of family members for each level in the bank data set:\\n\")\n",
    "print()"
   ]
  },
  {
   "cell_type": "markdown",
   "metadata": {},
   "source": [
    "#### Check the count of Education values for each level in the dataset"
   ]
  },
  {
   "cell_type": "code",
   "execution_count": 41,
   "metadata": {},
   "outputs": [
    {
     "name": "stdout",
     "output_type": "stream",
     "text": [
      "The number of Education levels in the bank data set:\n",
      "\n",
      "1    2096\n",
      "3    1501\n",
      "2    1403\n",
      "Name: Education, dtype: int64\n"
     ]
    }
   ],
   "source": [
    "print(\"The number of Education levels in the bank data set:\\n\")\n",
    "print()"
   ]
  },
  {
   "cell_type": "markdown",
   "metadata": {},
   "source": [
    "#### Do Necessary changes for the data types from the previous observations"
   ]
  },
  {
   "cell_type": "code",
   "execution_count": 42,
   "metadata": {},
   "outputs": [],
   "source": [
    "for cols in ['Education', 'CDAccount', 'Online','CreditCard','SecuritiesAccount','Family','ZIPCode','PersonalLoan']:\n",
    "    "
   ]
  },
  {
   "cell_type": "code",
   "execution_count": 43,
   "metadata": {},
   "outputs": [
    {
     "data": {
      "text/plain": [
       "ID                      int64\n",
       "Age                   float64\n",
       "Experience            float64\n",
       "Income                float64\n",
       "ZIPCode              category\n",
       "Family               category\n",
       "CCAvg                 float64\n",
       "Education            category\n",
       "Mortgage                int64\n",
       "PersonalLoan         category\n",
       "SecuritiesAccount    category\n",
       "CDAccount            category\n",
       "Online               category\n",
       "CreditCard           category\n",
       "dtype: object"
      ]
     },
     "execution_count": 43,
     "metadata": {},
     "output_type": "execute_result"
    }
   ],
   "source": [
    "bank.dtypes"
   ]
  },
  {
   "cell_type": "markdown",
   "metadata": {},
   "source": [
    "#### Remove the unncessary Columns"
   ]
  },
  {
   "cell_type": "code",
   "execution_count": 44,
   "metadata": {},
   "outputs": [],
   "source": [
    "bank=bank.drop([\"ID\",\"ZIPCode\"],axis=1)"
   ]
  },
  {
   "cell_type": "code",
   "execution_count": 45,
   "metadata": {},
   "outputs": [
    {
     "data": {
      "text/html": [
       "<div>\n",
       "<style scoped>\n",
       "    .dataframe tbody tr th:only-of-type {\n",
       "        vertical-align: middle;\n",
       "    }\n",
       "\n",
       "    .dataframe tbody tr th {\n",
       "        vertical-align: top;\n",
       "    }\n",
       "\n",
       "    .dataframe thead th {\n",
       "        text-align: right;\n",
       "    }\n",
       "</style>\n",
       "<table border=\"1\" class=\"dataframe\">\n",
       "  <thead>\n",
       "    <tr style=\"text-align: right;\">\n",
       "      <th></th>\n",
       "      <th>Age</th>\n",
       "      <th>Experience</th>\n",
       "      <th>Income</th>\n",
       "      <th>Family</th>\n",
       "      <th>CCAvg</th>\n",
       "      <th>Education</th>\n",
       "      <th>Mortgage</th>\n",
       "      <th>PersonalLoan</th>\n",
       "      <th>SecuritiesAccount</th>\n",
       "      <th>CDAccount</th>\n",
       "      <th>Online</th>\n",
       "      <th>CreditCard</th>\n",
       "    </tr>\n",
       "  </thead>\n",
       "  <tbody>\n",
       "    <tr>\n",
       "      <th>0</th>\n",
       "      <td>25.0</td>\n",
       "      <td>1.0</td>\n",
       "      <td>49.0</td>\n",
       "      <td>4</td>\n",
       "      <td>1.6</td>\n",
       "      <td>1</td>\n",
       "      <td>0</td>\n",
       "      <td>0</td>\n",
       "      <td>1</td>\n",
       "      <td>0</td>\n",
       "      <td>0</td>\n",
       "      <td>0</td>\n",
       "    </tr>\n",
       "    <tr>\n",
       "      <th>1</th>\n",
       "      <td>45.0</td>\n",
       "      <td>19.0</td>\n",
       "      <td>34.0</td>\n",
       "      <td>3</td>\n",
       "      <td>1.5</td>\n",
       "      <td>1</td>\n",
       "      <td>0</td>\n",
       "      <td>0</td>\n",
       "      <td>1</td>\n",
       "      <td>0</td>\n",
       "      <td>0</td>\n",
       "      <td>0</td>\n",
       "    </tr>\n",
       "    <tr>\n",
       "      <th>2</th>\n",
       "      <td>39.0</td>\n",
       "      <td>15.0</td>\n",
       "      <td>11.0</td>\n",
       "      <td>1</td>\n",
       "      <td>1.0</td>\n",
       "      <td>1</td>\n",
       "      <td>0</td>\n",
       "      <td>0</td>\n",
       "      <td>0</td>\n",
       "      <td>0</td>\n",
       "      <td>0</td>\n",
       "      <td>0</td>\n",
       "    </tr>\n",
       "    <tr>\n",
       "      <th>3</th>\n",
       "      <td>35.0</td>\n",
       "      <td>9.0</td>\n",
       "      <td>100.0</td>\n",
       "      <td>1</td>\n",
       "      <td>2.7</td>\n",
       "      <td>2</td>\n",
       "      <td>0</td>\n",
       "      <td>0</td>\n",
       "      <td>0</td>\n",
       "      <td>0</td>\n",
       "      <td>0</td>\n",
       "      <td>0</td>\n",
       "    </tr>\n",
       "    <tr>\n",
       "      <th>4</th>\n",
       "      <td>35.0</td>\n",
       "      <td>8.0</td>\n",
       "      <td>45.0</td>\n",
       "      <td>4</td>\n",
       "      <td>1.0</td>\n",
       "      <td>2</td>\n",
       "      <td>0</td>\n",
       "      <td>0</td>\n",
       "      <td>0</td>\n",
       "      <td>0</td>\n",
       "      <td>0</td>\n",
       "      <td>1</td>\n",
       "    </tr>\n",
       "  </tbody>\n",
       "</table>\n",
       "</div>"
      ],
      "text/plain": [
       "    Age  Experience  Income Family  CCAvg Education  Mortgage PersonalLoan  \\\n",
       "0  25.0         1.0    49.0      4    1.6         1         0            0   \n",
       "1  45.0        19.0    34.0      3    1.5         1         0            0   \n",
       "2  39.0        15.0    11.0      1    1.0         1         0            0   \n",
       "3  35.0         9.0   100.0      1    2.7         2         0            0   \n",
       "4  35.0         8.0    45.0      4    1.0         2         0            0   \n",
       "\n",
       "  SecuritiesAccount CDAccount Online CreditCard  \n",
       "0                 1         0      0          0  \n",
       "1                 1         0      0          0  \n",
       "2                 0         0      0          0  \n",
       "3                 0         0      0          0  \n",
       "4                 0         0      0          1  "
      ]
     },
     "execution_count": 45,
     "metadata": {},
     "output_type": "execute_result"
    }
   ],
   "source": [
    "bank.head()"
   ]
  },
  {
   "cell_type": "markdown",
   "metadata": {},
   "source": [
    "####  Check for missing values "
   ]
  },
  {
   "cell_type": "code",
   "execution_count": 46,
   "metadata": {},
   "outputs": [
    {
     "data": {
      "text/plain": [
       "Age                   2\n",
       "Experience            2\n",
       "Income               13\n",
       "Family                0\n",
       "CCAvg                 0\n",
       "Education             0\n",
       "Mortgage              0\n",
       "PersonalLoan          0\n",
       "SecuritiesAccount     0\n",
       "CDAccount             0\n",
       "Online                0\n",
       "CreditCard            0\n",
       "dtype: int64"
      ]
     },
     "execution_count": 46,
     "metadata": {},
     "output_type": "execute_result"
    }
   ],
   "source": []
  },
  {
   "cell_type": "markdown",
   "metadata": {},
   "source": [
    "#### Split the data into train and test"
   ]
  },
  {
   "cell_type": "code",
   "execution_count": 47,
   "metadata": {},
   "outputs": [],
   "source": [
    "from sklearn.model_selection import train_test_split"
   ]
  },
  {
   "cell_type": "code",
   "execution_count": 48,
   "metadata": {},
   "outputs": [],
   "source": [
    "y= bank[\"PersonalLoan\"]\n",
    "X= \n",
    "X_train, X_test, y_train, y_test = train_test_split(X, y, test_size=0.20,random_state=123)  "
   ]
  },
  {
   "cell_type": "code",
   "execution_count": 49,
   "metadata": {},
   "outputs": [
    {
     "name": "stdout",
     "output_type": "stream",
     "text": [
      "(4000, 11)\n",
      "(1000, 11)\n",
      "(4000,)\n",
      "(1000,)\n"
     ]
    }
   ],
   "source": [
    "print(X_train.shape)\n",
    "print(X_test.shape)\n",
    "print(y_train.shape)\n",
    "print(y_test.shape)"
   ]
  },
  {
   "cell_type": "code",
   "execution_count": 50,
   "metadata": {},
   "outputs": [
    {
     "name": "stdout",
     "output_type": "stream",
     "text": [
      "<class 'pandas.core.frame.DataFrame'>\n",
      "<class 'pandas.core.series.Series'>\n",
      "<class 'pandas.core.frame.DataFrame'>\n",
      "<class 'pandas.core.series.Series'>\n"
     ]
    }
   ],
   "source": [
    "print(type(X))\n",
    "print(type(y))\n",
    "\n",
    "print(type(X_train))\n",
    "print(type(y_train))"
   ]
  },
  {
   "cell_type": "markdown",
   "metadata": {},
   "source": [
    "#### Split the attributes into numerical and categorical types"
   ]
  },
  {
   "cell_type": "code",
   "execution_count": 51,
   "metadata": {},
   "outputs": [
    {
     "data": {
      "text/plain": [
       "Index(['Age', 'Experience', 'Income', 'CCAvg', 'Mortgage'], dtype='object')"
      ]
     },
     "execution_count": 51,
     "metadata": {},
     "output_type": "execute_result"
    }
   ],
   "source": [
    "num_attr=X_train.select_dtypes(['int64','float64']).columns\n",
    "print(num_attr)"
   ]
  },
  {
   "cell_type": "code",
   "execution_count": 52,
   "metadata": {},
   "outputs": [
    {
     "data": {
      "text/plain": [
       "Index(['Family', 'Education', 'SecuritiesAccount', 'CDAccount', 'Online',\n",
       "       'CreditCard'],\n",
       "      dtype='object')"
      ]
     },
     "execution_count": 52,
     "metadata": {},
     "output_type": "execute_result"
    }
   ],
   "source": [
    "cat_attr =\n",
    "print(cat_attr)"
   ]
  },
  {
   "cell_type": "code",
   "execution_count": 53,
   "metadata": {},
   "outputs": [
    {
     "data": {
      "text/plain": [
       "pandas.core.frame.DataFrame"
      ]
     },
     "execution_count": 53,
     "metadata": {},
     "output_type": "execute_result"
    }
   ],
   "source": [
    "type(X_train)"
   ]
  },
  {
   "cell_type": "markdown",
   "metadata": {},
   "source": [
    "#### Checking for missing values in train and test dataset"
   ]
  },
  {
   "cell_type": "code",
   "execution_count": 54,
   "metadata": {},
   "outputs": [
    {
     "data": {
      "text/plain": [
       "Age                   2\n",
       "Experience            2\n",
       "Income               11\n",
       "Family                0\n",
       "CCAvg                 0\n",
       "Education             0\n",
       "Mortgage              0\n",
       "SecuritiesAccount     0\n",
       "CDAccount             0\n",
       "Online                0\n",
       "CreditCard            0\n",
       "dtype: int64"
      ]
     },
     "execution_count": 54,
     "metadata": {},
     "output_type": "execute_result"
    }
   ],
   "source": [
    "## Check Missing values in train data\n"
   ]
  },
  {
   "cell_type": "code",
   "execution_count": 55,
   "metadata": {},
   "outputs": [
    {
     "data": {
      "text/plain": [
       "Age                  0\n",
       "Experience           0\n",
       "Income               2\n",
       "Family               0\n",
       "CCAvg                0\n",
       "Education            0\n",
       "Mortgage             0\n",
       "SecuritiesAccount    0\n",
       "CDAccount            0\n",
       "Online               0\n",
       "CreditCard           0\n",
       "dtype: int64"
      ]
     },
     "execution_count": 55,
     "metadata": {},
     "output_type": "execute_result"
    }
   ],
   "source": [
    "## Check Missing values in train data\n"
   ]
  },
  {
   "cell_type": "markdown",
   "metadata": {},
   "source": [
    "#### Imputing missing values with median"
   ]
  },
  {
   "cell_type": "code",
   "execution_count": 56,
   "metadata": {},
   "outputs": [],
   "source": [
    "imputer = SimpleImputer(strategy='median')\n",
    "imputer = imputer.fit(X_train[num_attr])\n",
    "\n",
    "## Impute on train data\n",
    "\n",
    "X_train[num_attr] = \n",
    "X_test[num_attr] = imputer.transform(X_test[num_attr])"
   ]
  },
  {
   "cell_type": "code",
   "execution_count": 57,
   "metadata": {},
   "outputs": [
    {
     "data": {
      "text/plain": [
       "Age                  0\n",
       "Experience           0\n",
       "Income               0\n",
       "Family               0\n",
       "CCAvg                0\n",
       "Education            0\n",
       "Mortgage             0\n",
       "SecuritiesAccount    0\n",
       "CDAccount            0\n",
       "Online               0\n",
       "CreditCard           0\n",
       "dtype: int64"
      ]
     },
     "execution_count": 57,
     "metadata": {},
     "output_type": "execute_result"
    }
   ],
   "source": [
    "X_train.isnull().sum()"
   ]
  },
  {
   "cell_type": "code",
   "execution_count": 58,
   "metadata": {},
   "outputs": [
    {
     "data": {
      "text/plain": [
       "Age                  0\n",
       "Experience           0\n",
       "Income               0\n",
       "Family               0\n",
       "CCAvg                0\n",
       "Education            0\n",
       "Mortgage             0\n",
       "SecuritiesAccount    0\n",
       "CDAccount            0\n",
       "Online               0\n",
       "CreditCard           0\n",
       "dtype: int64"
      ]
     },
     "execution_count": 58,
     "metadata": {},
     "output_type": "execute_result"
    }
   ],
   "source": [
    "X_test.isnull().sum()"
   ]
  },
  {
   "cell_type": "markdown",
   "metadata": {
    "collapsed": true
   },
   "source": [
    "#### Standardize the data (numerical attributes only) - Import StandardScaler\n"
   ]
  },
  {
   "cell_type": "code",
   "execution_count": 59,
   "metadata": {},
   "outputs": [
    {
     "data": {
      "text/plain": [
       "StandardScaler(copy=True, with_mean=True, with_std=True)"
      ]
     },
     "execution_count": 59,
     "metadata": {},
     "output_type": "execute_result"
    }
   ],
   "source": [
    "scaler = StandardScaler()\n",
    "scaler.fit(X_train[num_attr])"
   ]
  },
  {
   "cell_type": "code",
   "execution_count": 60,
   "metadata": {},
   "outputs": [
    {
     "data": {
      "text/plain": [
       "array([45.35375 , 20.12525 , 73.86325 ,  1.941265, 57.3785  ])"
      ]
     },
     "execution_count": 60,
     "metadata": {},
     "output_type": "execute_result"
    }
   ],
   "source": [
    "scaler.mean_"
   ]
  },
  {
   "cell_type": "code",
   "execution_count": 61,
   "metadata": {},
   "outputs": [
    {
     "data": {
      "text/plain": [
       "array([1.29216111e+02, 1.29351562e+02, 2.11409555e+03, 3.07373640e+00,\n",
       "       1.06315062e+04])"
      ]
     },
     "execution_count": 61,
     "metadata": {},
     "output_type": "execute_result"
    }
   ],
   "source": [
    "scaler.var_"
   ]
  },
  {
   "cell_type": "code",
   "execution_count": 62,
   "metadata": {},
   "outputs": [],
   "source": [
    "## Standardize the train data\n",
    "\n",
    "## Standardize the test data\n",
    "X_test[num_attr]=scaler.transform(X_test[num_attr])"
   ]
  },
  {
   "cell_type": "code",
   "execution_count": 63,
   "metadata": {},
   "outputs": [
    {
     "name": "stdout",
     "output_type": "stream",
     "text": [
      "(4000, 11)\n",
      "(1000, 11)\n"
     ]
    }
   ],
   "source": [
    "print(X_train.shape)\n",
    "print(X_test.shape)"
   ]
  },
  {
   "cell_type": "code",
   "execution_count": 64,
   "metadata": {},
   "outputs": [],
   "source": [
    "X_train = pd.get_dummies(columns=cat_attr,data=X_train,drop_first=True)"
   ]
  },
  {
   "cell_type": "code",
   "execution_count": 65,
   "metadata": {},
   "outputs": [],
   "source": [
    "X_test = pd.get_dummies(columns=cat_attr,data=X_test,drop_first=True)"
   ]
  },
  {
   "cell_type": "code",
   "execution_count": 66,
   "metadata": {},
   "outputs": [
    {
     "data": {
      "text/html": [
       "<div>\n",
       "<style scoped>\n",
       "    .dataframe tbody tr th:only-of-type {\n",
       "        vertical-align: middle;\n",
       "    }\n",
       "\n",
       "    .dataframe tbody tr th {\n",
       "        vertical-align: top;\n",
       "    }\n",
       "\n",
       "    .dataframe thead th {\n",
       "        text-align: right;\n",
       "    }\n",
       "</style>\n",
       "<table border=\"1\" class=\"dataframe\">\n",
       "  <thead>\n",
       "    <tr style=\"text-align: right;\">\n",
       "      <th></th>\n",
       "      <th>Age</th>\n",
       "      <th>Experience</th>\n",
       "      <th>Income</th>\n",
       "      <th>CCAvg</th>\n",
       "      <th>Mortgage</th>\n",
       "      <th>Family_2</th>\n",
       "      <th>Family_3</th>\n",
       "      <th>Family_4</th>\n",
       "      <th>Education_2</th>\n",
       "      <th>Education_3</th>\n",
       "      <th>SecuritiesAccount_1</th>\n",
       "      <th>CDAccount_1</th>\n",
       "      <th>Online_1</th>\n",
       "      <th>CreditCard_1</th>\n",
       "    </tr>\n",
       "  </thead>\n",
       "  <tbody>\n",
       "    <tr>\n",
       "      <th>1863</th>\n",
       "      <td>0.232794</td>\n",
       "      <td>0.164838</td>\n",
       "      <td>-0.671242</td>\n",
       "      <td>-0.422805</td>\n",
       "      <td>0.529744</td>\n",
       "      <td>0</td>\n",
       "      <td>0</td>\n",
       "      <td>0</td>\n",
       "      <td>1</td>\n",
       "      <td>0</td>\n",
       "      <td>0</td>\n",
       "      <td>0</td>\n",
       "      <td>1</td>\n",
       "      <td>0</td>\n",
       "    </tr>\n",
       "    <tr>\n",
       "      <th>420</th>\n",
       "      <td>0.144823</td>\n",
       "      <td>0.164838</td>\n",
       "      <td>-0.345009</td>\n",
       "      <td>0.946115</td>\n",
       "      <td>-0.556483</td>\n",
       "      <td>0</td>\n",
       "      <td>0</td>\n",
       "      <td>1</td>\n",
       "      <td>0</td>\n",
       "      <td>1</td>\n",
       "      <td>0</td>\n",
       "      <td>0</td>\n",
       "      <td>1</td>\n",
       "      <td>1</td>\n",
       "    </tr>\n",
       "    <tr>\n",
       "      <th>3260</th>\n",
       "      <td>0.848594</td>\n",
       "      <td>0.868241</td>\n",
       "      <td>0.220463</td>\n",
       "      <td>-1.107265</td>\n",
       "      <td>-0.556483</td>\n",
       "      <td>1</td>\n",
       "      <td>0</td>\n",
       "      <td>0</td>\n",
       "      <td>0</td>\n",
       "      <td>1</td>\n",
       "      <td>0</td>\n",
       "      <td>0</td>\n",
       "      <td>0</td>\n",
       "      <td>0</td>\n",
       "    </tr>\n",
       "    <tr>\n",
       "      <th>742</th>\n",
       "      <td>-1.174749</td>\n",
       "      <td>-1.241968</td>\n",
       "      <td>0.155217</td>\n",
       "      <td>0.318693</td>\n",
       "      <td>-0.556483</td>\n",
       "      <td>0</td>\n",
       "      <td>0</td>\n",
       "      <td>0</td>\n",
       "      <td>0</td>\n",
       "      <td>0</td>\n",
       "      <td>0</td>\n",
       "      <td>0</td>\n",
       "      <td>1</td>\n",
       "      <td>0</td>\n",
       "    </tr>\n",
       "    <tr>\n",
       "      <th>4809</th>\n",
       "      <td>-0.207063</td>\n",
       "      <td>-0.098938</td>\n",
       "      <td>-0.910480</td>\n",
       "      <td>-0.765035</td>\n",
       "      <td>-0.556483</td>\n",
       "      <td>0</td>\n",
       "      <td>1</td>\n",
       "      <td>0</td>\n",
       "      <td>1</td>\n",
       "      <td>0</td>\n",
       "      <td>0</td>\n",
       "      <td>0</td>\n",
       "      <td>0</td>\n",
       "      <td>0</td>\n",
       "    </tr>\n",
       "  </tbody>\n",
       "</table>\n",
       "</div>"
      ],
      "text/plain": [
       "           Age  Experience    Income     CCAvg  Mortgage  Family_2  Family_3  \\\n",
       "1863  0.232794    0.164838 -0.671242 -0.422805  0.529744         0         0   \n",
       "420   0.144823    0.164838 -0.345009  0.946115 -0.556483         0         0   \n",
       "3260  0.848594    0.868241  0.220463 -1.107265 -0.556483         1         0   \n",
       "742  -1.174749   -1.241968  0.155217  0.318693 -0.556483         0         0   \n",
       "4809 -0.207063   -0.098938 -0.910480 -0.765035 -0.556483         0         1   \n",
       "\n",
       "      Family_4  Education_2  Education_3  SecuritiesAccount_1  CDAccount_1  \\\n",
       "1863         0            1            0                    0            0   \n",
       "420          1            0            1                    0            0   \n",
       "3260         0            0            1                    0            0   \n",
       "742          0            0            0                    0            0   \n",
       "4809         0            1            0                    0            0   \n",
       "\n",
       "      Online_1  CreditCard_1  \n",
       "1863         1             0  \n",
       "420          1             1  \n",
       "3260         0             0  \n",
       "742          1             0  \n",
       "4809         0             0  "
      ]
     },
     "execution_count": 66,
     "metadata": {},
     "output_type": "execute_result"
    }
   ],
   "source": [
    "X_train.head()"
   ]
  },
  {
   "cell_type": "code",
   "execution_count": 67,
   "metadata": {},
   "outputs": [
    {
     "data": {
      "text/html": [
       "<div>\n",
       "<style scoped>\n",
       "    .dataframe tbody tr th:only-of-type {\n",
       "        vertical-align: middle;\n",
       "    }\n",
       "\n",
       "    .dataframe tbody tr th {\n",
       "        vertical-align: top;\n",
       "    }\n",
       "\n",
       "    .dataframe thead th {\n",
       "        text-align: right;\n",
       "    }\n",
       "</style>\n",
       "<table border=\"1\" class=\"dataframe\">\n",
       "  <thead>\n",
       "    <tr style=\"text-align: right;\">\n",
       "      <th></th>\n",
       "      <th>Age</th>\n",
       "      <th>Experience</th>\n",
       "      <th>Income</th>\n",
       "      <th>CCAvg</th>\n",
       "      <th>Mortgage</th>\n",
       "      <th>Family_2</th>\n",
       "      <th>Family_3</th>\n",
       "      <th>Family_4</th>\n",
       "      <th>Education_2</th>\n",
       "      <th>Education_3</th>\n",
       "      <th>SecuritiesAccount_1</th>\n",
       "      <th>CDAccount_1</th>\n",
       "      <th>Online_1</th>\n",
       "      <th>CreditCard_1</th>\n",
       "    </tr>\n",
       "  </thead>\n",
       "  <tbody>\n",
       "    <tr>\n",
       "      <th>2648</th>\n",
       "      <td>-1.702577</td>\n",
       "      <td>-1.769520</td>\n",
       "      <td>1.764637</td>\n",
       "      <td>2.999494</td>\n",
       "      <td>-0.556483</td>\n",
       "      <td>1</td>\n",
       "      <td>0</td>\n",
       "      <td>0</td>\n",
       "      <td>0</td>\n",
       "      <td>0</td>\n",
       "      <td>0</td>\n",
       "      <td>0</td>\n",
       "      <td>0</td>\n",
       "      <td>0</td>\n",
       "    </tr>\n",
       "    <tr>\n",
       "      <th>2456</th>\n",
       "      <td>0.760623</td>\n",
       "      <td>0.868241</td>\n",
       "      <td>-0.758238</td>\n",
       "      <td>-0.650958</td>\n",
       "      <td>-0.556483</td>\n",
       "      <td>1</td>\n",
       "      <td>0</td>\n",
       "      <td>0</td>\n",
       "      <td>0</td>\n",
       "      <td>0</td>\n",
       "      <td>0</td>\n",
       "      <td>0</td>\n",
       "      <td>0</td>\n",
       "      <td>1</td>\n",
       "    </tr>\n",
       "    <tr>\n",
       "      <th>4557</th>\n",
       "      <td>-1.086777</td>\n",
       "      <td>-0.978192</td>\n",
       "      <td>-0.953978</td>\n",
       "      <td>-0.536882</td>\n",
       "      <td>-0.556483</td>\n",
       "      <td>1</td>\n",
       "      <td>0</td>\n",
       "      <td>0</td>\n",
       "      <td>1</td>\n",
       "      <td>0</td>\n",
       "      <td>0</td>\n",
       "      <td>0</td>\n",
       "      <td>1</td>\n",
       "      <td>0</td>\n",
       "    </tr>\n",
       "    <tr>\n",
       "      <th>4884</th>\n",
       "      <td>1.288452</td>\n",
       "      <td>1.219942</td>\n",
       "      <td>-0.519000</td>\n",
       "      <td>0.147578</td>\n",
       "      <td>-0.556483</td>\n",
       "      <td>0</td>\n",
       "      <td>1</td>\n",
       "      <td>0</td>\n",
       "      <td>0</td>\n",
       "      <td>1</td>\n",
       "      <td>0</td>\n",
       "      <td>0</td>\n",
       "      <td>1</td>\n",
       "      <td>1</td>\n",
       "    </tr>\n",
       "    <tr>\n",
       "      <th>92</th>\n",
       "      <td>-0.207063</td>\n",
       "      <td>-0.098938</td>\n",
       "      <td>-0.214515</td>\n",
       "      <td>-0.765035</td>\n",
       "      <td>-0.556483</td>\n",
       "      <td>0</td>\n",
       "      <td>1</td>\n",
       "      <td>0</td>\n",
       "      <td>1</td>\n",
       "      <td>0</td>\n",
       "      <td>0</td>\n",
       "      <td>0</td>\n",
       "      <td>0</td>\n",
       "      <td>0</td>\n",
       "    </tr>\n",
       "  </tbody>\n",
       "</table>\n",
       "</div>"
      ],
      "text/plain": [
       "           Age  Experience    Income     CCAvg  Mortgage  Family_2  Family_3  \\\n",
       "2648 -1.702577   -1.769520  1.764637  2.999494 -0.556483         1         0   \n",
       "2456  0.760623    0.868241 -0.758238 -0.650958 -0.556483         1         0   \n",
       "4557 -1.086777   -0.978192 -0.953978 -0.536882 -0.556483         1         0   \n",
       "4884  1.288452    1.219942 -0.519000  0.147578 -0.556483         0         1   \n",
       "92   -0.207063   -0.098938 -0.214515 -0.765035 -0.556483         0         1   \n",
       "\n",
       "      Family_4  Education_2  Education_3  SecuritiesAccount_1  CDAccount_1  \\\n",
       "2648         0            0            0                    0            0   \n",
       "2456         0            0            0                    0            0   \n",
       "4557         0            1            0                    0            0   \n",
       "4884         0            0            1                    0            0   \n",
       "92           0            1            0                    0            0   \n",
       "\n",
       "      Online_1  CreditCard_1  \n",
       "2648         0             0  \n",
       "2456         0             1  \n",
       "4557         1             0  \n",
       "4884         1             1  \n",
       "92           0             0  "
      ]
     },
     "execution_count": 67,
     "metadata": {},
     "output_type": "execute_result"
    }
   ],
   "source": [
    "X_test.head()"
   ]
  },
  {
   "cell_type": "markdown",
   "metadata": {},
   "source": [
    "# Model Building "
   ]
  },
  {
   "cell_type": "markdown",
   "metadata": {},
   "source": [
    "#### Let us see the details of the Random Forest in Sklearn \n",
    "* class sklearn.ensemble.RandomForestClassifier(n_estimators=’warn’, criterion=’gini’, max_depth=None, min_samples_split=2, min_samples_leaf=1, min_weight_fraction_leaf=0.0, max_features=’auto’, max_leaf_nodes=None, min_impurity_decrease=0.0, min_impurity_split=None, bootstrap=True, oob_score=False, n_jobs=None, random_state=None, verbose=0, warm_start=False, class_weight=None)\n",
    "\n",
    "\n",
    "\n",
    "* A random forest is a meta estimator that fits a number of decision tree classifiers on various sub-samples of the dataset and uses averaging to improve the predictive accuracy and control over-fitting. The sub-sample size is always the same as the original input sample size but the samples are drawn with replacement if bootstrap=True "
   ]
  },
  {
   "cell_type": "markdown",
   "metadata": {},
   "source": [
    "**Parameters:**\n",
    "\n",
    "* **n_estimators** : integer, optional (default=10)\n",
    "    The number of trees in the forest.The default value of n_estimators will change from 10 in version 0.20 to 100 in version 0.22.\n",
    "\n",
    "* **criterion** : string, optional (default=”gini”)\n",
    "    The function to measure the quality of a split. Supported criteria are “gini” for the Gini impurity and “entropy” for the information gain. Note: this parameter is tree-specific.\n",
    "\n",
    "* **max_depth** : integer or None, optional (default=None)\n",
    "    The maximum depth of the tree. If None, then nodes are expanded until all leaves are pure or until all leaves contain less than min_samples_split samples.\n",
    "\n",
    "* **min_samples_split** : int, float, optional (default=2)\n",
    "    The minimum number of samples required to split an internal node:\n",
    "\n",
    "    If int, then consider min_samples_split as the minimum number.\n",
    "    If float, then min_samples_split is a fraction and ceil(min_samples_split * n_samples) are the minimum number of samples for each split.\n",
    "    \n",
    "* **min_samples_leaf** : int, float, optional (default=1) The minimum number of samples required to be at a leaf node. A split point at any depth will only be considered if it leaves at least min_samples_leaf training samples in each of the left and right branches. This may have the effect of smoothing the model, especially in regression.\n",
    "\n",
    "    If int, then consider min_samples_leaf as the minimum number. If float, then min_samples_leaf is a fraction and ceil(min_samples_leaf * n_samples) are the minimum number of samples for each node.\n",
    "\n",
    "* **max_features** : int, float, string or None, optional (default=”auto”)\n",
    "    The number of features to consider when looking for the best split\n"
   ]
  },
  {
   "cell_type": "markdown",
   "metadata": {},
   "source": [
    "####  Build Random Forest Classifier"
   ]
  },
  {
   "cell_type": "code",
   "execution_count": 68,
   "metadata": {},
   "outputs": [],
   "source": [
    "from sklearn.ensemble import RandomForestClassifier"
   ]
  },
  {
   "cell_type": "code",
   "execution_count": 69,
   "metadata": {
    "scrolled": false
   },
   "outputs": [
    {
     "data": {
      "text/plain": [
       "RandomForestClassifier(bootstrap=True, class_weight=None, criterion='gini',\n",
       "                       max_depth=8, max_features='auto', max_leaf_nodes=None,\n",
       "                       min_impurity_decrease=0.0, min_impurity_split=None,\n",
       "                       min_samples_leaf=1, min_samples_split=2,\n",
       "                       min_weight_fraction_leaf=0.0, n_estimators=10,\n",
       "                       n_jobs=None, oob_score=False, random_state=None,\n",
       "                       verbose=0, warm_start=False)"
      ]
     },
     "execution_count": 69,
     "metadata": {},
     "output_type": "execute_result"
    }
   ],
   "source": [
    "clf = RandomForestClassifier(n_estimators=10,max_depth=8)\n",
    "clf.fit(X=X_train, y=y_train)"
   ]
  },
  {
   "cell_type": "code",
   "execution_count": 70,
   "metadata": {},
   "outputs": [
    {
     "name": "stdout",
     "output_type": "stream",
     "text": [
      "Accuracy for Train set:\n",
      "0.989\n",
      "Accuracy for Test set:\n",
      "0.981\n",
      "\n",
      "\n",
      "Recall for Train set:\n",
      "0.8835978835978836\n",
      "Recall for Test set:\n",
      "0.8529411764705882\n",
      "\n",
      "\n",
      "Precision for Train set:\n",
      "1.0\n",
      "Precision for Test set:\n",
      "0.9560439560439561\n"
     ]
    }
   ],
   "source": [
    "from sklearn.metrics import accuracy_score\n",
    "from sklearn.metrics import recall_score\n",
    "from sklearn.metrics import precision_score\n",
    "\n",
    "y_pred = clf.predict(X_train)\n",
    "print(\"Accuracy for Train set:\")\n",
    "print(accuracy_score(y_train,y_pred))\n",
    "\n",
    "y_pred_test = clf.predict(X_test)\n",
    "print(\"Accuracy for Test set:\")\n",
    "print(accuracy_score(y_test,y_pred_test))\n",
    "\n",
    "print(\"\\n\")\n",
    "\n",
    "print(\"Recall for Train set:\")\n",
    "print(recall_score(y_train,y_pred,pos_label=1))\n",
    "\n",
    "print(\"Recall for Test set:\")\n",
    "print(recall_score(y_test,y_pred_test,pos_label=1))\n",
    "\n",
    "print(\"\\n\")\n",
    "\n",
    "print(\"Precision for Train set:\")\n",
    "print(precision_score(y_train,y_pred,pos_label=1))\n",
    "\n",
    "print(\"Precision for Test set:\")\n",
    "print(precision_score(y_test,y_pred_test,pos_label=1))\n"
   ]
  },
  {
   "cell_type": "code",
   "execution_count": 71,
   "metadata": {},
   "outputs": [
    {
     "data": {
      "text/plain": [
       "array([0.03002665, 0.0259775 , 0.29551637, 0.21983096, 0.0434952 ,\n",
       "       0.01339514, 0.03522367, 0.04521649, 0.09165759, 0.107272  ,\n",
       "       0.00380015, 0.07457307, 0.00704799, 0.00696723])"
      ]
     },
     "execution_count": 71,
     "metadata": {},
     "output_type": "execute_result"
    }
   ],
   "source": [
    "clf.feature_importances_"
   ]
  },
  {
   "cell_type": "code",
   "execution_count": 72,
   "metadata": {},
   "outputs": [
    {
     "name": "stdout",
     "output_type": "stream",
     "text": [
      "[10 13 12  5  1  0  6  4  7 11  8  9  3  2]\n"
     ]
    }
   ],
   "source": [
    "importances = clf.feature_importances_\n",
    "indices = np.argsort(importances)\n",
    "print(indices)"
   ]
  },
  {
   "cell_type": "code",
   "execution_count": 73,
   "metadata": {},
   "outputs": [
    {
     "data": {
      "image/png": "[encoded data removed]",
      "text/plain": [
       "<Figure size 432x288 with 1 Axes>"
      ]
     },
     "metadata": {
      "needs_background": "light"
     },
     "output_type": "display_data"
    }
   ],
   "source": [
    "import matplotlib.pyplot as plt\n",
    "%matplotlib inline\n",
    "features = X_train.columns\n",
    "\n",
    "plt.title('Feature Importances')\n",
    "plt.barh(range(len(indices)),importances[indices], color='b')\n",
    "plt.yticks(range(len(indices)), [features[i] for i in indices])\n",
    "plt.xlabel('Relative Importance')\n",
    "plt.show()"
   ]
  },
  {
   "cell_type": "markdown",
   "metadata": {},
   "source": [
    "#### GridSearch Cross validation"
   ]
  },
  {
   "cell_type": "code",
   "execution_count": 74,
   "metadata": {},
   "outputs": [],
   "source": [
    "from sklearn.model_selection import GridSearchCV\n",
    "from sklearn.metrics import classification_report\n",
    "\n",
    "rfc = RandomForestClassifier(n_jobs=-1, max_features='sqrt') \n",
    " \n",
    "# Use a grid over parameters of interest\n",
    "param_grid = { \n",
    "           \"n_estimators\" : [9, 18, 27, 36, 45, 54, 63],\n",
    "           \"max_depth\" : [2,3,5,7],\n",
    "           \"min_samples_leaf\" : [2, 4]}\n",
    "\n",
    "scores = ['precision', 'recall']"
   ]
  },
  {
   "cell_type": "code",
   "execution_count": 75,
   "metadata": {
    "scrolled": true
   },
   "outputs": [
    {
     "name": "stdout",
     "output_type": "stream",
     "text": [
      "# Tuning hyper-parameters for precision\n",
      "\n",
      "\n",
      "Best parameters set found on training set:\n",
      "\n",
      "\n",
      "{'max_depth': 7, 'min_samples_leaf': 2, 'n_estimators': 54}\n",
      "\n",
      "\n",
      "Grid scores on training set:\n",
      "\n",
      "\n",
      "0.753 for {'max_depth': 2, 'min_samples_leaf': 2, 'n_estimators': 9}\n",
      "0.955 for {'max_depth': 2, 'min_samples_leaf': 2, 'n_estimators': 18}\n",
      "0.956 for {'max_depth': 2, 'min_samples_leaf': 2, 'n_estimators': 27}\n",
      "0.954 for {'max_depth': 2, 'min_samples_leaf': 2, 'n_estimators': 36}\n",
      "0.854 for {'max_depth': 2, 'min_samples_leaf': 2, 'n_estimators': 45}\n",
      "0.854 for {'max_depth': 2, 'min_samples_leaf': 2, 'n_estimators': 54}\n",
      "0.954 for {'max_depth': 2, 'min_samples_leaf': 2, 'n_estimators': 63}\n",
      "0.955 for {'max_depth': 2, 'min_samples_leaf': 4, 'n_estimators': 9}\n",
      "0.854 for {'max_depth': 2, 'min_samples_leaf': 4, 'n_estimators': 18}\n",
      "0.954 for {'max_depth': 2, 'min_samples_leaf': 4, 'n_estimators': 27}\n",
      "0.955 for {'max_depth': 2, 'min_samples_leaf': 4, 'n_estimators': 36}\n",
      "0.854 for {'max_depth': 2, 'min_samples_leaf': 4, 'n_estimators': 45}\n",
      "0.754 for {'max_depth': 2, 'min_samples_leaf': 4, 'n_estimators': 54}\n",
      "0.954 for {'max_depth': 2, 'min_samples_leaf': 4, 'n_estimators': 63}\n",
      "0.945 for {'max_depth': 3, 'min_samples_leaf': 2, 'n_estimators': 9}\n",
      "0.933 for {'max_depth': 3, 'min_samples_leaf': 2, 'n_estimators': 18}\n",
      "0.961 for {'max_depth': 3, 'min_samples_leaf': 2, 'n_estimators': 27}\n",
      "0.961 for {'max_depth': 3, 'min_samples_leaf': 2, 'n_estimators': 36}\n",
      "0.961 for {'max_depth': 3, 'min_samples_leaf': 2, 'n_estimators': 45}\n",
      "0.960 for {'max_depth': 3, 'min_samples_leaf': 2, 'n_estimators': 54}\n",
      "0.961 for {'max_depth': 3, 'min_samples_leaf': 2, 'n_estimators': 63}\n",
      "0.948 for {'max_depth': 3, 'min_samples_leaf': 4, 'n_estimators': 9}\n",
      "0.955 for {'max_depth': 3, 'min_samples_leaf': 4, 'n_estimators': 18}\n",
      "0.949 for {'max_depth': 3, 'min_samples_leaf': 4, 'n_estimators': 27}\n",
      "0.961 for {'max_depth': 3, 'min_samples_leaf': 4, 'n_estimators': 36}\n",
      "0.961 for {'max_depth': 3, 'min_samples_leaf': 4, 'n_estimators': 45}\n",
      "0.961 for {'max_depth': 3, 'min_samples_leaf': 4, 'n_estimators': 54}\n",
      "0.961 for {'max_depth': 3, 'min_samples_leaf': 4, 'n_estimators': 63}\n",
      "0.976 for {'max_depth': 5, 'min_samples_leaf': 2, 'n_estimators': 9}\n",
      "0.963 for {'max_depth': 5, 'min_samples_leaf': 2, 'n_estimators': 18}\n",
      "0.970 for {'max_depth': 5, 'min_samples_leaf': 2, 'n_estimators': 27}\n",
      "0.972 for {'max_depth': 5, 'min_samples_leaf': 2, 'n_estimators': 36}\n",
      "0.972 for {'max_depth': 5, 'min_samples_leaf': 2, 'n_estimators': 45}\n",
      "0.973 for {'max_depth': 5, 'min_samples_leaf': 2, 'n_estimators': 54}\n",
      "0.971 for {'max_depth': 5, 'min_samples_leaf': 2, 'n_estimators': 63}\n",
      "0.970 for {'max_depth': 5, 'min_samples_leaf': 4, 'n_estimators': 9}\n",
      "0.958 for {'max_depth': 5, 'min_samples_leaf': 4, 'n_estimators': 18}\n",
      "0.971 for {'max_depth': 5, 'min_samples_leaf': 4, 'n_estimators': 27}\n",
      "0.967 for {'max_depth': 5, 'min_samples_leaf': 4, 'n_estimators': 36}\n",
      "0.958 for {'max_depth': 5, 'min_samples_leaf': 4, 'n_estimators': 45}\n",
      "0.976 for {'max_depth': 5, 'min_samples_leaf': 4, 'n_estimators': 54}\n",
      "0.970 for {'max_depth': 5, 'min_samples_leaf': 4, 'n_estimators': 63}\n",
      "0.975 for {'max_depth': 7, 'min_samples_leaf': 2, 'n_estimators': 9}\n",
      "0.971 for {'max_depth': 7, 'min_samples_leaf': 2, 'n_estimators': 18}\n",
      "0.969 for {'max_depth': 7, 'min_samples_leaf': 2, 'n_estimators': 27}\n",
      "0.974 for {'max_depth': 7, 'min_samples_leaf': 2, 'n_estimators': 36}\n",
      "0.978 for {'max_depth': 7, 'min_samples_leaf': 2, 'n_estimators': 45}\n",
      "0.980 for {'max_depth': 7, 'min_samples_leaf': 2, 'n_estimators': 54}\n",
      "0.976 for {'max_depth': 7, 'min_samples_leaf': 2, 'n_estimators': 63}\n",
      "0.967 for {'max_depth': 7, 'min_samples_leaf': 4, 'n_estimators': 9}\n",
      "0.973 for {'max_depth': 7, 'min_samples_leaf': 4, 'n_estimators': 18}\n",
      "0.974 for {'max_depth': 7, 'min_samples_leaf': 4, 'n_estimators': 27}\n",
      "0.975 for {'max_depth': 7, 'min_samples_leaf': 4, 'n_estimators': 36}\n",
      "0.972 for {'max_depth': 7, 'min_samples_leaf': 4, 'n_estimators': 45}\n",
      "0.978 for {'max_depth': 7, 'min_samples_leaf': 4, 'n_estimators': 54}\n",
      "0.977 for {'max_depth': 7, 'min_samples_leaf': 4, 'n_estimators': 63}\n",
      "# Tuning hyper-parameters for recall\n",
      "\n",
      "\n",
      "Best parameters set found on training set:\n",
      "\n",
      "\n",
      "{'max_depth': 7, 'min_samples_leaf': 2, 'n_estimators': 27}\n",
      "\n",
      "\n",
      "Grid scores on training set:\n",
      "\n",
      "\n",
      "0.528 for {'max_depth': 2, 'min_samples_leaf': 2, 'n_estimators': 9}\n",
      "0.527 for {'max_depth': 2, 'min_samples_leaf': 2, 'n_estimators': 18}\n",
      "0.524 for {'max_depth': 2, 'min_samples_leaf': 2, 'n_estimators': 27}\n",
      "0.509 for {'max_depth': 2, 'min_samples_leaf': 2, 'n_estimators': 36}\n",
      "0.517 for {'max_depth': 2, 'min_samples_leaf': 2, 'n_estimators': 45}\n",
      "0.512 for {'max_depth': 2, 'min_samples_leaf': 2, 'n_estimators': 54}\n",
      "0.520 for {'max_depth': 2, 'min_samples_leaf': 2, 'n_estimators': 63}\n",
      "0.528 for {'max_depth': 2, 'min_samples_leaf': 4, 'n_estimators': 9}\n",
      "0.534 for {'max_depth': 2, 'min_samples_leaf': 4, 'n_estimators': 18}\n",
      "0.512 for {'max_depth': 2, 'min_samples_leaf': 4, 'n_estimators': 27}\n",
      "0.517 for {'max_depth': 2, 'min_samples_leaf': 4, 'n_estimators': 36}\n",
      "0.521 for {'max_depth': 2, 'min_samples_leaf': 4, 'n_estimators': 45}\n",
      "0.509 for {'max_depth': 2, 'min_samples_leaf': 4, 'n_estimators': 54}\n",
      "0.511 for {'max_depth': 2, 'min_samples_leaf': 4, 'n_estimators': 63}\n",
      "0.604 for {'max_depth': 3, 'min_samples_leaf': 2, 'n_estimators': 9}\n",
      "0.611 for {'max_depth': 3, 'min_samples_leaf': 2, 'n_estimators': 18}\n",
      "0.586 for {'max_depth': 3, 'min_samples_leaf': 2, 'n_estimators': 27}\n",
      "0.599 for {'max_depth': 3, 'min_samples_leaf': 2, 'n_estimators': 36}\n",
      "0.571 for {'max_depth': 3, 'min_samples_leaf': 2, 'n_estimators': 45}\n",
      "0.598 for {'max_depth': 3, 'min_samples_leaf': 2, 'n_estimators': 54}\n",
      "0.595 for {'max_depth': 3, 'min_samples_leaf': 2, 'n_estimators': 63}\n",
      "0.606 for {'max_depth': 3, 'min_samples_leaf': 4, 'n_estimators': 9}\n",
      "0.598 for {'max_depth': 3, 'min_samples_leaf': 4, 'n_estimators': 18}\n",
      "0.590 for {'max_depth': 3, 'min_samples_leaf': 4, 'n_estimators': 27}\n",
      "0.606 for {'max_depth': 3, 'min_samples_leaf': 4, 'n_estimators': 36}\n",
      "0.595 for {'max_depth': 3, 'min_samples_leaf': 4, 'n_estimators': 45}\n",
      "0.591 for {'max_depth': 3, 'min_samples_leaf': 4, 'n_estimators': 54}\n",
      "0.590 for {'max_depth': 3, 'min_samples_leaf': 4, 'n_estimators': 63}\n",
      "0.782 for {'max_depth': 5, 'min_samples_leaf': 2, 'n_estimators': 9}\n",
      "0.790 for {'max_depth': 5, 'min_samples_leaf': 2, 'n_estimators': 18}\n",
      "0.797 for {'max_depth': 5, 'min_samples_leaf': 2, 'n_estimators': 27}\n",
      "0.779 for {'max_depth': 5, 'min_samples_leaf': 2, 'n_estimators': 36}\n",
      "0.779 for {'max_depth': 5, 'min_samples_leaf': 2, 'n_estimators': 45}\n",
      "0.786 for {'max_depth': 5, 'min_samples_leaf': 2, 'n_estimators': 54}\n",
      "0.776 for {'max_depth': 5, 'min_samples_leaf': 2, 'n_estimators': 63}\n",
      "0.777 for {'max_depth': 5, 'min_samples_leaf': 4, 'n_estimators': 9}\n",
      "0.777 for {'max_depth': 5, 'min_samples_leaf': 4, 'n_estimators': 18}\n",
      "0.772 for {'max_depth': 5, 'min_samples_leaf': 4, 'n_estimators': 27}\n",
      "0.796 for {'max_depth': 5, 'min_samples_leaf': 4, 'n_estimators': 36}\n",
      "0.779 for {'max_depth': 5, 'min_samples_leaf': 4, 'n_estimators': 45}\n",
      "0.756 for {'max_depth': 5, 'min_samples_leaf': 4, 'n_estimators': 54}\n",
      "0.784 for {'max_depth': 5, 'min_samples_leaf': 4, 'n_estimators': 63}\n",
      "0.862 for {'max_depth': 7, 'min_samples_leaf': 2, 'n_estimators': 9}\n",
      "0.871 for {'max_depth': 7, 'min_samples_leaf': 2, 'n_estimators': 18}\n",
      "0.885 for {'max_depth': 7, 'min_samples_leaf': 2, 'n_estimators': 27}\n",
      "0.876 for {'max_depth': 7, 'min_samples_leaf': 2, 'n_estimators': 36}\n",
      "0.880 for {'max_depth': 7, 'min_samples_leaf': 2, 'n_estimators': 45}\n",
      "0.885 for {'max_depth': 7, 'min_samples_leaf': 2, 'n_estimators': 54}\n",
      "0.883 for {'max_depth': 7, 'min_samples_leaf': 2, 'n_estimators': 63}\n",
      "0.861 for {'max_depth': 7, 'min_samples_leaf': 4, 'n_estimators': 9}\n",
      "0.869 for {'max_depth': 7, 'min_samples_leaf': 4, 'n_estimators': 18}\n",
      "0.875 for {'max_depth': 7, 'min_samples_leaf': 4, 'n_estimators': 27}\n",
      "0.879 for {'max_depth': 7, 'min_samples_leaf': 4, 'n_estimators': 36}\n",
      "0.884 for {'max_depth': 7, 'min_samples_leaf': 4, 'n_estimators': 45}\n",
      "0.883 for {'max_depth': 7, 'min_samples_leaf': 4, 'n_estimators': 54}\n",
      "0.884 for {'max_depth': 7, 'min_samples_leaf': 4, 'n_estimators': 63}\n"
     ]
    }
   ],
   "source": [
    "for score in scores:\n",
    "    print(\"# Tuning hyper-parameters for %s\" % score)\n",
    "    print(\"\\n\")\n",
    "\n",
    "    clf = GridSearchCV(estimator=rfc, param_grid=param_grid,cv=5,\n",
    "                       scoring='%s_macro' % score)\n",
    "    clf.fit(X_train, y_train)\n",
    "\n",
    "    print(\"Best parameters set found on training set:\")\n",
    "    print(\"\\n\")\n",
    "    print(clf.best_params_)\n",
    "    print(\"\\n\")\n",
    "    \n",
    "    print(\"Grid scores on training set:\")\n",
    "    print(\"\\n\")\n",
    "    means = clf.cv_results_['mean_test_score']\n",
    "    for mean, params in zip(means, clf.cv_results_['params']):\n",
    "        print(\"%0.3f for %r\"\n",
    "              % (mean, params))\n"
   ]
  },
  {
   "cell_type": "code",
   "execution_count": 76,
   "metadata": {
    "scrolled": true
   },
   "outputs": [
    {
     "data": {
      "text/plain": [
       "GridSearchCV(cv=5, error_score='raise-deprecating',\n",
       "             estimator=RandomForestClassifier(bootstrap=True, class_weight=None,\n",
       "                                              criterion='gini', max_depth=None,\n",
       "                                              max_features='sqrt',\n",
       "                                              max_leaf_nodes=None,\n",
       "                                              min_impurity_decrease=0.0,\n",
       "                                              min_impurity_split=None,\n",
       "                                              min_samples_leaf=1,\n",
       "                                              min_samples_split=2,\n",
       "                                              min_weight_fraction_leaf=0.0,\n",
       "                                              n_estimators='warn', n_jobs=-1,\n",
       "                                              oob_score=False,\n",
       "                                              random_state=None, verbose=0,\n",
       "                                              warm_start=False),\n",
       "             iid='warn', n_jobs=None,\n",
       "             param_grid={'max_depth': [2, 3, 5, 7], 'min_samples_leaf': [2, 4],\n",
       "                         'n_estimators': [9, 18, 27, 36, 45, 54, 63]},\n",
       "             pre_dispatch='2*n_jobs', refit=True, return_train_score=False,\n",
       "             scoring=None, verbose=0)"
      ]
     },
     "execution_count": 76,
     "metadata": {},
     "output_type": "execute_result"
    }
   ],
   "source": [
    "CV_rfc = GridSearchCV(estimator=rfc, param_grid=param_grid,cv=5)\n",
    "CV_rfc.fit(X=X_train, y=y_train)"
   ]
  },
  {
   "cell_type": "code",
   "execution_count": 77,
   "metadata": {},
   "outputs": [
    {
     "name": "stdout",
     "output_type": "stream",
     "text": [
      "0.97825 {'max_depth': 7, 'min_samples_leaf': 2, 'n_estimators': 63}\n"
     ]
    }
   ],
   "source": [
    "print(CV_rfc.best_score_, CV_rfc.best_params_)"
   ]
  },
  {
   "cell_type": "code",
   "execution_count": 78,
   "metadata": {},
   "outputs": [
    {
     "name": "stdout",
     "output_type": "stream",
     "text": [
      "0.982\n"
     ]
    }
   ],
   "source": [
    "y_pred_test=CV_rfc.predict(X_test)\n",
    "print(accuracy_score(y_test,y_pred_test))"
   ]
  }
 ],
 "metadata": {
  "anaconda-cloud": {},
  "kernelspec": {
   "display_name": "Python 3",
   "language": "python",
   "name": "python3"
  },
  "language_info": {
   "codemirror_mode": {
    "name": "ipython",
    "version": 3
   },
   "file_extension": ".py",
   "mimetype": "text/x-python",
   "name": "python",
   "nbconvert_exporter": "python",
   "pygments_lexer": "ipython3",
   "version": "3.6.4"
  },
  "toc": {
   "base_numbering": 1,
   "nav_menu": {},
   "number_sections": true,
   "sideBar": true,
   "skip_h1_title": false,
   "title_cell": "Table of Contents",
   "title_sidebar": "Contents",
   "toc_cell": false,
   "toc_position": {},
   "toc_section_display": true,
   "toc_window_display": false
  },
  "varInspector": {
   "cols": {
    "lenName": 16,
    "lenType": 16,
    "lenVar": 40
   },
   "kernels_config": {
    "python": {
     "delete_cmd_postfix": "",
     "delete_cmd_prefix": "del ",
     "library": "var_list.py",
     "varRefreshCmd": "print(var_dic_list())"
    },
    "r": {
     "delete_cmd_postfix": ") ",
     "delete_cmd_prefix": "rm(",
     "library": "var_list.r",
     "varRefreshCmd": "cat(var_dic_list()) "
    }
   },
   "types_to_exclude": [
    "module",
    "function",
    "builtin_function_or_method",
    "instance",
    "_Feature"
   ],
   "window_display": false
  }
 },
 "nbformat": 4,
 "nbformat_minor": 2
}
